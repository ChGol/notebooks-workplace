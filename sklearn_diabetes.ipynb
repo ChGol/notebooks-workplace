{
  "nbformat": 4,
  "nbformat_minor": 0,
  "metadata": {
    "colab": {
      "name": "sklearn_diabetes.ipynb",
      "provenance": [],
      "authorship_tag": "ABX9TyPTg5zb/nhppslEKEnLAf14",
      "include_colab_link": true
    },
    "kernelspec": {
      "name": "python3",
      "display_name": "Python 3"
    },
    "language_info": {
      "name": "python"
    }
  },
  "cells": [
    {
      "cell_type": "markdown",
      "metadata": {
        "id": "view-in-github",
        "colab_type": "text"
      },
      "source": [
        "<a href=\"https://colab.research.google.com/github/ChGol/notebooks-workplace/blob/main/sklearn_diabetes.ipynb\" target=\"_parent\"><img src=\"https://colab.research.google.com/assets/colab-badge.svg\" alt=\"Open In Colab\"/></a>"
      ]
    },
    {
      "cell_type": "markdown",
      "source": [
        "Training and test datasets comparision using toy dataset from sklearn: https://scikit-learn.org/stable/datasets/toy_dataset.html#diabetes-dataset"
      ],
      "metadata": {
        "id": "vREUYASnmmt2"
      }
    },
    {
      "cell_type": "code",
      "source": [
        "# Requirements versions limitation due to the Colab Python default version (3.7)\n",
        "# Older version of Scipy due to the conflicts with imgaug dependency\n",
        "!pip install scikit-learn==1.0.2 seaborn==0.11.2 pandas==1.3.5 numpy==1.21.6 scipy==1.4.1"
      ],
      "metadata": {
        "colab": {
          "base_uri": "https://localhost:8080/"
        },
        "id": "qTy-R76EnAst",
        "outputId": "03c39a04-d82e-46cd-8527-566b4da9624a"
      },
      "execution_count": 2,
      "outputs": [
        {
          "output_type": "stream",
          "name": "stdout",
          "text": [
            "Looking in indexes: https://pypi.org/simple, https://us-python.pkg.dev/colab-wheels/public/simple/\n",
            "Requirement already satisfied: scikit-learn==1.0.2 in /usr/local/lib/python3.7/dist-packages (1.0.2)\n",
            "Requirement already satisfied: seaborn==0.11.2 in /usr/local/lib/python3.7/dist-packages (0.11.2)\n",
            "Requirement already satisfied: pandas==1.3.5 in /usr/local/lib/python3.7/dist-packages (1.3.5)\n",
            "Requirement already satisfied: numpy==1.21.6 in /usr/local/lib/python3.7/dist-packages (1.21.6)\n",
            "Requirement already satisfied: scipy==1.4.1 in /usr/local/lib/python3.7/dist-packages (1.4.1)\n",
            "Requirement already satisfied: threadpoolctl>=2.0.0 in /usr/local/lib/python3.7/dist-packages (from scikit-learn==1.0.2) (3.1.0)\n",
            "Requirement already satisfied: joblib>=0.11 in /usr/local/lib/python3.7/dist-packages (from scikit-learn==1.0.2) (1.1.0)\n",
            "Requirement already satisfied: matplotlib>=2.2 in /usr/local/lib/python3.7/dist-packages (from seaborn==0.11.2) (3.2.2)\n",
            "Requirement already satisfied: python-dateutil>=2.7.3 in /usr/local/lib/python3.7/dist-packages (from pandas==1.3.5) (2.8.2)\n",
            "Requirement already satisfied: pytz>=2017.3 in /usr/local/lib/python3.7/dist-packages (from pandas==1.3.5) (2022.1)\n",
            "Requirement already satisfied: cycler>=0.10 in /usr/local/lib/python3.7/dist-packages (from matplotlib>=2.2->seaborn==0.11.2) (0.11.0)\n",
            "Requirement already satisfied: kiwisolver>=1.0.1 in /usr/local/lib/python3.7/dist-packages (from matplotlib>=2.2->seaborn==0.11.2) (1.4.3)\n",
            "Requirement already satisfied: pyparsing!=2.0.4,!=2.1.2,!=2.1.6,>=2.0.1 in /usr/local/lib/python3.7/dist-packages (from matplotlib>=2.2->seaborn==0.11.2) (3.0.9)\n",
            "Requirement already satisfied: typing-extensions in /usr/local/lib/python3.7/dist-packages (from kiwisolver>=1.0.1->matplotlib>=2.2->seaborn==0.11.2) (4.1.1)\n",
            "Requirement already satisfied: six>=1.5 in /usr/local/lib/python3.7/dist-packages (from python-dateutil>=2.7.3->pandas==1.3.5) (1.15.0)\n"
          ]
        }
      ]
    },
    {
      "cell_type": "code",
      "source": [
        "import numpy as np\n",
        "import pandas as pd\n",
        "import seaborn as sns\n",
        "\n",
        "from scipy.stats import ks_2samp\n",
        "from sklearn.datasets import load_diabetes\n",
        "from sklearn.linear_model import LinearRegression\n",
        "from sklearn.metrics import r2_score\n",
        "from sklearn.model_selection import train_test_split"
      ],
      "metadata": {
        "id": "kPUWyXlln697"
      },
      "execution_count": 6,
      "outputs": []
    },
    {
      "cell_type": "code",
      "source": [
        "# Create train and test set\n",
        "dataset = load_diabetes(as_frame=True)\n",
        "X, y = dataset['data'], dataset['target']\n",
        "X_train, X_test, y_train, y_test = train_test_split(X, y, test_size=0.33, random_state=0)"
      ],
      "metadata": {
        "id": "hz0tWXLQ2V6o"
      },
      "execution_count": 8,
      "outputs": []
    },
    {
      "cell_type": "code",
      "source": [
        "# Plot the cumulative distribution function of ‘bp’ feature for both training and test datasets\n",
        "# bp stands for average blood pressure\n",
        "feature_name = 'bp'\n",
        "df = pd.DataFrame({\n",
        "    feature_name: np.concatenate((X_train.loc[:, feature_name], X_test.loc[:, feature_name])),\n",
        "    'set': ['training'] * X_train.shape[0] + ['test'] * X_test.shape[0]\n",
        "})\n",
        "sns.ecdfplot(data=df, x=feature_name, hue='set')"
      ],
      "metadata": {
        "colab": {
          "base_uri": "https://localhost:8080/",
          "height": 301
        },
        "id": "2lsztVwnGyIJ",
        "outputId": "f7d7e705-6e5c-46dd-aac5-c39bac78e16a"
      },
      "execution_count": 10,
      "outputs": [
        {
          "output_type": "execute_result",
          "data": {
            "text/plain": [
              "<matplotlib.axes._subplots.AxesSubplot at 0x7fe610afbf50>"
            ]
          },
          "metadata": {},
          "execution_count": 10
        },
        {
          "output_type": "display_data",
          "data": {
            "text/plain": [
              "<Figure size 432x288 with 1 Axes>"
            ],
            "image/png": "[encoded data removed]"
          },
          "metadata": {
            "needs_background": "light"
          }
        }
      ]
    },
    {
      "cell_type": "markdown",
      "source": [
        "The two curves are similar, but there is a visible difference. \n",
        "The distribution of the feature has been distorted during sampling procedure. \n",
        "To quantify the difference between the two distributions with a single number, \n",
        "we can use Kolmogorov-Smirnov distance: https://docs.scipy.org/doc/scipy/reference/generated/scipy.stats.ks_2samp.html\n",
        "\n",
        "Given C(x) the cumulative distribution of feature x in the training dataset and \n",
        "G(x) the cumulative distribution of the same feature in the test dataset, \n",
        "the distance is defined as the maximum distance between these curves.\n",
        "\n",
        "The lower the distance, the more similar the distributions of the features among the training and test datasets."
      ],
      "metadata": {
        "id": "oikq29Y0HAsh"
      }
    },
    {
      "cell_type": "code",
      "source": [
        "# Calculate distances for all features\n",
        "distances = list(map(lambda i: ks_2samp(X_train.iloc[:, i], X_test.iloc[:, i]).statistic, range(X_train.shape[1])))\n",
        "for i_ in range(X_train.shape[1]):\n",
        "    print(X_train.columns[i_], distances[i_])\n"
      ],
      "metadata": {
        "colab": {
          "base_uri": "https://localhost:8080/"
        },
        "id": "3DZcwcpIHCpY",
        "outputId": "ebf34d91-4480-4b57-88e7-6c916667c02a"
      },
      "execution_count": 14,
      "outputs": [
        {
          "output_type": "stream",
          "name": "stdout",
          "text": [
            "age 0.05715475749722325\n",
            "sex 0.054979637171417996\n",
            "bmi 0.08015549796371714\n",
            "bp 0.11972417623102555\n",
            "s1 0.07284339133654202\n",
            "s2 0.08908737504627916\n",
            "s3 0.07936875231395779\n",
            "s4 0.06613291373565346\n",
            "s5 0.05858941132913736\n",
            "s6 0.09667715660866345\n"
          ]
        }
      ]
    },
    {
      "cell_type": "code",
      "source": [
        "# Train linear model on current datasets using an R-squared score\n",
        "linear_model_0 = LinearRegression()\n",
        "linear_model_0.fit(X_train, y_train)\n",
        "linear_model_score_0 = r2_score(y_test, linear_model_0.predict(X_test))\n",
        "print(linear_model_score_0)"
      ],
      "metadata": {
        "colab": {
          "base_uri": "https://localhost:8080/"
        },
        "id": "lmFENnn-HQLr",
        "outputId": "d082f097-59be-4694-d988-623d682fce14"
      },
      "execution_count": 16,
      "outputs": [
        {
          "output_type": "stream",
          "name": "stdout",
          "text": [
            "0.4033025232246107\n"
          ]
        }
      ]
    },
    {
      "cell_type": "code",
      "source": [
        "# Loop through several values of the random state and\n",
        "# calculate the distance , then select the random state that minimizes it\n",
        "n_features = X.shape[1]\n",
        "n_tries = 100\n",
        "result = []\n",
        "for random_state in range(n_tries):\n",
        "    X_train, X_test, y_train, y_test = train_test_split(X, y, test_size=0.3, random_state=random_state)\n",
        "    distances = list(map(lambda i: ks_2samp(X_train.iloc[:, i], X_test.iloc[:, i]).statistic, range(n_features)))\n",
        "    result.append((random_state, max(distances)))\n",
        "\n",
        "result.sort(key=lambda x: x[1])\n",
        "print(result[:10])"
      ],
      "metadata": {
        "colab": {
          "base_uri": "https://localhost:8080/"
        },
        "id": "bCQLllgdHTYj",
        "outputId": "2ce23645-0858-4e85-97a8-414e84d7abe8"
      },
      "execution_count": 19,
      "outputs": [
        {
          "output_type": "stream",
          "name": "stdout",
          "text": [
            "[(9, 0.07932452490449425), (52, 0.08324208579701681), (66, 0.08730564274764581), (55, 0.08779229627466725), (7, 0.0883519478307419), (61, 0.08942258559018906), (83, 0.08949558361924229), (51, 0.09039589264423194), (98, 0.09209917998880697), (3, 0.09504343382728667)]\n"
          ]
        }
      ]
    },
    {
      "cell_type": "code",
      "source": [
        "# Plot the cumulative distribution function of ‘bp’ feature for the best random state\n",
        "X_train, X_test, y_train, y_test = train_test_split(X, y, test_size=0.3, random_state=result[0][0])\n",
        "df = pd.DataFrame({\n",
        "    feature_name: np.concatenate((X_train.loc[:, feature_name], X_test.loc[:, feature_name])),\n",
        "    'set': ['training'] * X_train.shape[0] + ['test'] * X_test.shape[0]\n",
        "})\n",
        "sns.ecdfplot(data=df, x=feature_name, hue='set')"
      ],
      "metadata": {
        "colab": {
          "base_uri": "https://localhost:8080/",
          "height": 301
        },
        "id": "OP8St63VHZq4",
        "outputId": "65d18cb9-077e-4846-9715-d8af95c2adfe"
      },
      "execution_count": 21,
      "outputs": [
        {
          "output_type": "execute_result",
          "data": {
            "text/plain": [
              "<matplotlib.axes._subplots.AxesSubplot at 0x7fe610910b50>"
            ]
          },
          "metadata": {},
          "execution_count": 21
        },
        {
          "output_type": "display_data",
          "data": {
            "text/plain": [
              "<Figure size 432x288 with 1 Axes>"
            ],
            "image/png": "[encoded data removed]"
          },
          "metadata": {
            "needs_background": "light"
          }
        }
      ]
    },
    {
      "cell_type": "code",
      "source": [
        "# Check the distance for 'bp' feature using new sets\n",
        "print(ks_2samp(X_train.loc[:, feature_name], X_test.loc[:, feature_name]).statistic)"
      ],
      "metadata": {
        "colab": {
          "base_uri": "https://localhost:8080/"
        },
        "id": "66lS3MxkHoGS",
        "outputId": "1c373669-23e8-4ea6-c574-0ba14f797d06"
      },
      "execution_count": 23,
      "outputs": [
        {
          "output_type": "stream",
          "name": "stdout",
          "text": [
            "0.07849721390855781\n"
          ]
        }
      ]
    },
    {
      "cell_type": "code",
      "source": [
        "# Train again Linear model on the improved datasets\n",
        "linear_model_1 = LinearRegression()\n",
        "linear_model_1.fit(X_train, y_train)\n",
        "linear_model_score_1 = r2_score(y_test, linear_model_1.predict(X_test))\n",
        "print(linear_model_score_1)"
      ],
      "metadata": {
        "colab": {
          "base_uri": "https://localhost:8080/"
        },
        "id": "tl6BVgLJHudy",
        "outputId": "58337283-7c57-42e0-f9e0-66f3a4b0f2c5"
      },
      "execution_count": 24,
      "outputs": [
        {
          "output_type": "stream",
          "name": "stdout",
          "text": [
            "0.5900352656383732\n"
          ]
        }
      ]
    }
  ]
}