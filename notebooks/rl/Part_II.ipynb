{
  "nbformat": 4,
  "nbformat_minor": 0,
  "metadata": {
    "colab": {
      "name": "[SOLVED] Crash Course in Reinforcement Learning - Part II.ipynb",
      "provenance": [],
      "collapsed_sections": [],
      "include_colab_link": true
    },
    "kernelspec": {
      "name": "python3",
      "display_name": "Python 3"
    }
  },
  "cells": [
    {
      "cell_type": "markdown",
      "metadata": {
        "id": "view-in-github",
        "colab_type": "text"
      },
      "source": [
        "<a href=\"https://colab.research.google.com/github/ChGol/notebooks-workplace/blob/main/notebooks/rl/Part_II.ipynb\" target=\"_parent\"><img src=\"https://colab.research.google.com/assets/colab-badge.svg\" alt=\"Open In Colab\"/></a>"
      ]
    },
    {
      "cell_type": "markdown",
      "metadata": {
        "id": "Gw3P1oFTOlnF"
      },
      "source": [
        "# Setup\n",
        "Run below cells and hide it afterwards with the arrow on the left. "
      ]
    },
    {
      "cell_type": "code",
      "metadata": {
        "id": "S-4YPGE9O9mH"
      },
      "source": [
        "!pip install gym[Box2D] pyvirtualdisplay pyglet > /dev/null 2>&1\n",
        "!apt-get install -y xvfb python-opengl ffmpeg > /dev/null 2>&1"
      ],
      "execution_count": 1,
      "outputs": []
    },
    {
      "cell_type": "code",
      "metadata": {
        "id": "_jMNwYlIHTep"
      },
      "source": [
        "import gym\n",
        "from gym import logger as gymlogger\n",
        "from gym.wrappers import Monitor\n",
        "gymlogger.set_level(40) #error only\n",
        "import numpy as np\n",
        "import random\n",
        "import matplotlib\n",
        "import matplotlib.pyplot as plt\n",
        "plt.rcParams['figure.figsize'] = (10.0, 8.0)\n",
        "import math\n",
        "import glob\n",
        "import io\n",
        "import base64\n",
        "from IPython.display import HTML\n",
        "\n",
        "from typing import List, Tuple\n",
        "\n",
        "import torch\n",
        "from torch import nn\n",
        "import torch.nn.functional as F\n",
        "from collections import deque\n",
        "\n",
        "from IPython import display as ipythondisplay\n",
        "from IPython.display import display, update_display, clear_output\n",
        "from time import sleep\n",
        "\n",
        "from pyvirtualdisplay import Display\n",
        "xdisplay = Display(visible=0, size=(1300, 900), backend=\"xvfb\")\n",
        "xdisplay.start()\n",
        "\n",
        "\n",
        "\"\"\"\n",
        "Utility functions to enable video recording of gym environment and displaying it\n",
        "To enable video, just do \"env = wrap_env(env)\"\"\n",
        "\"\"\"\n",
        "\n",
        "class DoneWrapper(gym.Wrapper):\n",
        "\n",
        "  def step(self, action):\n",
        "    observation, reward, done, info = self.env.step(action) \n",
        "    return observation, reward, False, info\n",
        "      \n",
        "\n",
        "def show_video():\n",
        "  mp4list = glob.glob('video/*.mp4')\n",
        "  if len(mp4list) > 0:\n",
        "    mp4 = mp4list[0]\n",
        "    video = io.open(mp4, 'r+b').read()\n",
        "    encoded = base64.b64encode(video)\n",
        "    ipythondisplay.display(HTML(data='''<video alt=\"test\" autoplay \n",
        "                loop controls style=\"height: 400px;\">\n",
        "                <source src=\"data:video/mp4;base64,{0}\" type=\"video/mp4\" />\n",
        "             </video>'''.format(encoded.decode('ascii'))))\n",
        "  else: \n",
        "    print(\"Could not find video\")\n",
        "    \n",
        "    \n",
        "def wrap_env(env, done=True):\n",
        "  if not done:\n",
        "    env = DoneWrapper(env)\n",
        "  env = Monitor(env, './video', force=True, mode='evaluation')\n",
        "  return env\n",
        "\n",
        "\n",
        "def print_ansi(screen, display_id='42', wait=0.5):\n",
        "    clear_output(wait=True)\n",
        "    update_display(print(screen.getvalue()), display_id=display_id)\n",
        "    sleep(wait)\n",
        "\n",
        "\n",
        "def plot(img):\n",
        "  fig = plt.figure(figsize=(8,6))\n",
        "  ax = fig.add_subplot(111)\n",
        "  ax.imshow(img)\n",
        "  ax.set_xticks([])\n",
        "  ax.set_yticks([])"
      ],
      "execution_count": 2,
      "outputs": []
    },
    {
      "cell_type": "code",
      "metadata": {
        "id": "ewF-7AdyHTfi"
      },
      "source": [
        "def gather_trajectories(env: gym.Env, policy, num_trajs: int = 10):\n",
        "    \"\"\"Gather `num_trajs` trajectories by interacting with the environment using the given policy.\"\"\"\n",
        "    \n",
        "    # preapre a list for the trajectories\n",
        "    history = []\n",
        "    \n",
        "    for traj_idx in range(num_trajs):\n",
        "        obs = env.reset()\n",
        "        done = False\n",
        "        current_traj = []\n",
        "        while not done:\n",
        "            \n",
        "            # sample an action from the policy\n",
        "            action = policy.sample(obs)\n",
        "            # feed it into the environment\n",
        "            next_obs, reward, done, _ = env.step(action)\n",
        "            \n",
        "            # save into the history\n",
        "            current_traj += [(obs, action, reward)]\n",
        "\n",
        "            obs = next_obs\n",
        "        history += [current_traj]\n",
        "        \n",
        "    return history\n",
        "\n",
        "def calculate_return(rewards: List[float]) -> Tuple[float, List[float]]:\n",
        "    \"\"\"Calulated and episode and step returns\"\"\"\n",
        "    # calculate the sum of rewards from the episode\n",
        "    rewards = np.array(rewards)\n",
        "    episode_return = np.sum(rewards)\n",
        "    \n",
        "    # prepare a list for the step returns\n",
        "    step_returns = []\n",
        "\n",
        "    # calculate discounted return for each step\n",
        "    # hint: it's easier to go backwards\n",
        "\n",
        "    step_returns = [rewards[-1]]\n",
        "    for reward in reversed(rewards[:-1]):\n",
        "        last_return = step_returns[-1]\n",
        "        step_returns += [reward + last_return]\n",
        "    step_returns.reverse()\n",
        "\n",
        "    return episode_return, step_returns\n",
        "\n",
        "def process_trajectories(history: List):\n",
        "    \"\"\"Process gathered trajectories into tensors and calculate returns\"\"\"\n",
        "    # prepare containers for each element\n",
        "    obs_array = []\n",
        "    action_array = []\n",
        "    return_array = []\n",
        "    episode_returns = []\n",
        "    \n",
        "    # loop over the whole history\n",
        "    rewards = []\n",
        "    for traj_idx, traj in enumerate(history):\n",
        "        # unpack the elements\n",
        "        traj_obs, traj_actions, traj_rewards = list(zip(*traj))\n",
        "\n",
        "        # process the end of an episode - calculate episode and step returns\n",
        "\n",
        "        episode_return, step_returns = calculate_return(traj_rewards)\n",
        "        \n",
        "        episode_returns += [episode_return]\n",
        "        obs_array += traj_obs\n",
        "        action_array += traj_actions\n",
        "        return_array += step_returns\n",
        "\n",
        "    # cast out data to tensors (will be useful later)     \n",
        "    obs_array = torch.tensor(obs_array, dtype=torch.float32)\n",
        "    action_array = torch.tensor(action_array, dtype=torch.float32)\n",
        "    return_array = torch.tensor(return_array, dtype=torch.float32)\n",
        "    episode_returns = torch.tensor(episode_returns, dtype=torch.float32)\n",
        "    \n",
        "    return obs_array, action_array, return_array, episode_returns\n",
        "\n",
        "def visualize(env, policy):\n",
        "    \"\"\"Run the provided policy on the environment\"\"\"\n",
        "\n",
        "    env = wrap_env(env)\n",
        "    obs = env.reset()\n",
        "    done = False\n",
        "    \n",
        "    while not done:\n",
        "        action = policy.sample(obs) # ???\n",
        "        obs, reward, done, _ = env.step(action)\n",
        "        env.render()\n",
        "\n",
        "    env.close()\n",
        "    show_video()"
      ],
      "execution_count": 3,
      "outputs": []
    },
    {
      "cell_type": "markdown",
      "metadata": {
        "id": "j2H_aC5t62gN"
      },
      "source": [
        "# Part 2. Policy Gradient\n",
        "\n",
        "Here will implement the Policy Gradient algorithm and its necessary components.\n",
        "\n",
        "But before we start we need to add the discount factor trick to out trajectory processing function from the last part.\n",
        "\n",
        "## Exercise: Discounting \n",
        "Add the discount factor to the episode and step returns calculation.\n",
        "We'll set the default value for the gamma parameter so we wouldn't have to change the `process_trajectories` function.\n",
        "\n"
      ]
    },
    {
      "cell_type": "code",
      "metadata": {
        "id": "InjwPhjS_zBk"
      },
      "source": [
        "def calculate_return(rewards: List[float], gamma: float = 1.0):\n",
        "    \n",
        "    # calculate the *discounted* sum of rewards from the episode\n",
        "    rewards = np.array(rewards)\n",
        "    # ???\n",
        "    gammas = gamma ** np.arange(len(rewards))\n",
        "    episode_return = np.sum(rewards * gammas)\n",
        "    \n",
        "    step_returns = []\n",
        "\n",
        "    # calculate discounted return for each step\n",
        "    # hint: it's easier to go backwards\n",
        "    step_returns = [rewards[-1]]\n",
        "    for reward in reversed(rewards[:-1]):\n",
        "        last_return = step_returns[-1]\n",
        "        step_returns += [reward + last_return * gamma] # ???\n",
        "    step_returns.reverse()\n",
        "\n",
        "    return episode_return, step_returns\n"
      ],
      "execution_count": 4,
      "outputs": []
    },
    {
      "cell_type": "markdown",
      "metadata": {
        "id": "eXd2uitsBgK2"
      },
      "source": [
        "## Exercise: Network Policy\n",
        "For our Policy Gradient (and further methods) we need a differentiable policy model with optimizable weights - a *Network Policy*.\n",
        "\n",
        "The main specification of the network is already implemented, your task is to add the necessary methods. Same as before, we need our policy to provide us with:\n",
        "* a method to sample action given an observation - `sample` method\n",
        "* a probability vector, like the RandomPolicy - `probs` method.\n",
        "* and additional, a `log_probs` method that returns the same probabilities as the `probs` method, but passed through a logarithm function. It will be useful, since in the formula for policy gradient update we use the logarithm of probability instead of the probability itself."
      ]
    },
    {
      "cell_type": "code",
      "metadata": {
        "id": "2flZKz1C-lmY"
      },
      "source": [
        "class NetworkPolicy(nn.Module):\n",
        "\n",
        "    def __init__(self, obs_dim: int, action_dim: int, h_dim: int = 16):\n",
        "        super(NetworkPolicy, self).__init__()\n",
        "\n",
        "        self.model = nn.Sequential(nn.Linear(obs_dim, h_dim),\n",
        "                                   nn.Tanh(),\n",
        "                                   nn.Linear(h_dim, action_dim))\n",
        "\n",
        "    def probs(self, obs):\n",
        "        # cast the numpy array to a torch tensor if necessary\n",
        "        if not isinstance(obs, torch.Tensor):\n",
        "            obs = torch.tensor(obs, dtype=torch.float32)\n",
        "        # get logits from the model\n",
        "        logits = self.model(obs) # ???\n",
        "        # use softmax function to transform logits into probability distribution\n",
        "        return F.softmax(logits, -1) # ???\n",
        "\n",
        "    def log_probs(self, obs: np.ndarray):\n",
        "        # cast the numpy array to a torch tensor if necessary\n",
        "        if not isinstance(obs, torch.Tensor):\n",
        "            obs = torch.tensor(obs, dtype=torch.float32)\n",
        "        # get logits from the model\n",
        "        logits = self.model(obs) # ???\n",
        "        # use *log* softmax function to transform logits into probability distribution\n",
        "        log_probs = F.log_softmax(logits, -1) # ???\n",
        "        return log_probs\n",
        "\n",
        "    def sample(self, obs):\n",
        "        # again, sample from the prepared probability vector \n",
        "        # remember the `.item()` method!\n",
        "        # ???\n",
        "\n",
        "        probs = self.probs(obs)\n",
        "        action = torch.multinomial(probs, 1).item()\n",
        "        return action"
      ],
      "execution_count": 5,
      "outputs": []
    },
    {
      "cell_type": "markdown",
      "metadata": {
        "id": "AsnHAh_8_c5D"
      },
      "source": [
        "## Exercise: Policy Gradient Step and Training\n",
        "\n",
        "Now that we have the necessary elements, we can implement the Policy Gradient itself. Let's start with a single PG step. Your task is to implement the `target` of the Policy Gradient, i.e. the function that we want to optimize.\n",
        "\n",
        "Here's the gradient equation as a remainder:\n",
        "\n",
        "$$ \\nabla_\\theta \\mathbb{E}_{\\tau \\sim \\pi} R(\\tau) \\approx \\frac{1}{N} \\sum_{j=1}^{N} \\sum_{t=1}^{T} \\nabla_\\theta \\log \\pi_\\theta (a_t | s_t) R_t = \\nabla_\\theta \\frac{1}{N} \\sum_{j=1}^{N} \\sum_{t=1}^{T}  \\log \\pi_\\theta (a_t | s_t) R_t = \\nabla_\\theta \\hat{J}$$ \n",
        "where action $a_t$, state $s_t$ and step return $R_t$ come from trajectory $\\tau_j$ .\n",
        "\n",
        "PyTorch optimizers by default **minimize** the given function, so your target should be in fact the negative of the loss above (i.e. $-\\hat{J}$).\n",
        "\n",
        "The [`tensor.gather`](https://pytorch.org/docs/stable/torch.html#torch.gather) method may be useful to get the action log-probabilities.\n"
      ]
    },
    {
      "cell_type": "code",
      "metadata": {
        "id": "nSrc0wOD-G1V"
      },
      "source": [
        "def policy_gradient_step(policy: NetworkPolicy,\n",
        "                         optimizer: torch.optim.Optimizer, \n",
        "                         obs: torch.Tensor, \n",
        "                         actions: torch.Tensor, \n",
        "                         step_returns: torch.Tensor,\n",
        "                         num_trajs: int):\n",
        "\n",
        "    # pass the obs to the policy to get log probabilities of each action\n",
        "    log_probs = policy.log_probs(obs) # ???\n",
        "    \n",
        "    # get the probability of the action thast was actually performed for each observation\n",
        "    actions = actions.view(-1, 1).long()\n",
        "    # actions = actions.long()\n",
        "    action_log_probs = log_probs.gather(1, actions).squeeze() # ???\n",
        "    #action_log_probs = torch.index_select(log_probs, 0, actions)\n",
        "    #action_log_probs = log_probs[:,actions]\n",
        "    # calculate the gradient\n",
        "    target = -(action_log_probs * step_returns).sum() / num_trajs # ???\n",
        "    # pass it to the optimizer\n",
        "    optimizer.zero_grad()\n",
        "    target.backward()\n",
        "    optimizer.step()\n",
        "\n"
      ],
      "execution_count": 6,
      "outputs": []
    },
    {
      "cell_type": "markdown",
      "metadata": {
        "id": "bWsGCgzNJyyg"
      },
      "source": [
        "The last missing thing is the training loop that uses all the stuff that we have implemented so far. Write the missing code using the functions and classes that you've implemented already."
      ]
    },
    {
      "cell_type": "code",
      "metadata": {
        "id": "5_WXntM-BURj"
      },
      "source": [
        "def train_policy_gradient(env: gym.Env, \n",
        "                          policy: torch.nn.Module, \n",
        "                          num_iterations: int = 100, \n",
        "                          trajs_per_gather: int = 10):\n",
        "\n",
        "    # we'll use Adam to update the weights of our network\n",
        "    optimizer = torch.optim.Adam(policy.parameters(), lr=5e-3)\n",
        "    # training loop\n",
        "    for idx in range(num_iterations + 1):\n",
        "        # gather trajectories using current policy\n",
        "        history = gather_trajectories(env, policy, num_trajs=trajs_per_gather) # ???\n",
        "        \n",
        "        # calculate the obs, actions and returns array by processing the trajectories\n",
        "        obs, actions, step_returns, ep_returns = process_trajectories(history) # ???\n",
        "\n",
        "        # policy gradient training\n",
        "        policy_gradient_step(policy=policy,\n",
        "                                optimizer=optimizer,\n",
        "                                obs=obs,\n",
        "                                actions=actions,\n",
        "                                step_returns=step_returns,\n",
        "                                num_trajs=trajs_per_gather)\n",
        "        # log training progress\n",
        "        if idx % 10 == 0:\n",
        "            print(f\"Traning iteration {idx}, mean episode returns: {ep_returns.mean():.3f}\")"
      ],
      "execution_count": 7,
      "outputs": []
    },
    {
      "cell_type": "code",
      "metadata": {
        "id": "Tk-963wP-ZDD",
        "outputId": "fb939c78-6262-4be6-cf52-6b40384f4f74",
        "colab": {
          "base_uri": "https://localhost:8080/"
        }
      },
      "source": [
        "# moon lander\n",
        "# env = gym.make(\"LunarLander-v2\")\n",
        "# cart pole\n",
        "env = gym.make(\"CartPole-v1\")\n",
        "\n",
        "# gather necessary dimensions for our netowrk\n",
        "obs_dim = env.observation_space.shape[0]\n",
        "action_dim = env.action_space.n\n",
        "# initialize the policy\n",
        "network_policy = NetworkPolicy(obs_dim, action_dim)\n",
        "\n",
        "# train the model\n",
        "train_policy_gradient(env, \n",
        "                      network_policy, \n",
        "                      num_iterations=100,\n",
        "                      trajs_per_gather=20)"
      ],
      "execution_count": 8,
      "outputs": [
        {
          "output_type": "stream",
          "name": "stderr",
          "text": [
            "/usr/local/lib/python3.7/dist-packages/ipykernel_launcher.py:70: UserWarning: Creating a tensor from a list of numpy.ndarrays is extremely slow. Please consider converting the list to a single numpy.ndarray with numpy.array() before converting to a tensor. (Triggered internally at  ../torch/csrc/utils/tensor_new.cpp:210.)\n"
          ]
        },
        {
          "output_type": "stream",
          "name": "stdout",
          "text": [
            "Traning iteration 0, mean episode returns: 18.950\n",
            "Traning iteration 10, mean episode returns: 27.900\n",
            "Traning iteration 20, mean episode returns: 39.400\n",
            "Traning iteration 30, mean episode returns: 50.700\n",
            "Traning iteration 40, mean episode returns: 59.900\n",
            "Traning iteration 50, mean episode returns: 69.550\n",
            "Traning iteration 60, mean episode returns: 99.650\n",
            "Traning iteration 70, mean episode returns: 168.650\n",
            "Traning iteration 80, mean episode returns: 353.500\n",
            "Traning iteration 90, mean episode returns: 428.100\n",
            "Traning iteration 100, mean episode returns: 482.750\n"
          ]
        }
      ]
    },
    {
      "cell_type": "code",
      "metadata": {
        "id": "7dGihwmKM8Ue",
        "outputId": "6549957d-8612-4882-831b-1dae827fb169",
        "colab": {
          "base_uri": "https://localhost:8080/",
          "height": 421
        }
      },
      "source": [
        "visualize(env, network_policy)"
      ],
      "execution_count": 9,
      "outputs": [
        {
          "output_type": "display_data",
          "data": {
            "text/plain": [
              "<IPython.core.display.HTML object>"
            ],
            "text/html": [
              "<video alt=\"test\" autoplay \n",
              "                loop controls style=\"height: 400px;\">\n",
              "                <source src=\"data:video/mp4;base64,AAAAIGZ0eXBpc29tAAACAGlzb21pc28yYXZjMW1wNDEAAAAIZnJlZQAAmlptZGF0AAACrgYF//+q3EXpvebZSLeWLNgg2SPu73gyNjQgLSBjb3JlIDE1MiByMjg1NCBlOWE1OTAzIC0gSC4yNjQvTVBFRy00IEFWQyBjb2RlYyAtIENvcHlsZWZ0IDIwMDMtMjAxNyAtIGh0dHA6Ly93d3cudmlkZW9sYW4ub3JnL3gyNjQuaHRtbCAtIG9wdGlvbnM6IGNhYmFjPTEgcmVmPTMgZGVibG9jaz0xOjA6MCBhbmFseXNlPTB4MzoweDExMyBtZT1oZXggc3VibWU9NyBwc3k9MSBwc3lfcmQ9MS4wMDowLjAwIG1peGVkX3JlZj0xIG1lX3JhbmdlPTE2IGNocm9tYV9tZT0xIHRyZWxsaXM9MSA4eDhkY3Q9MSBjcW09MCBkZWFkem9uZT0yMSwxMSBmYXN0X3Bza2lwPTEgY2hyb21hX3FwX29mZnNldD0tMiB0aHJlYWRzPTMgbG9va2FoZWFkX3RocmVhZHM9MSBzbGljZWRfdGhyZWFkcz0wIG5yPTAgZGVjaW1hdGU9MSBpbnRlcmxhY2VkPTAgYmx1cmF5X2NvbXBhdD0wIGNvbnN0cmFpbmVkX2ludHJhPTAgYmZyYW1lcz0zIGJfcHlyYW1pZD0yIGJfYWRhcHQ9MSBiX2JpYXM9MCBkaXJlY3Q9MSB3ZWlnaHRiPTEgb3Blbl9nb3A9MCB3ZWlnaHRwPTIga2V5aW50PTI1MCBrZXlpbnRfbWluPTI1IHNjZW5lY3V0PTQwIGludHJhX3JlZnJlc2g9MCByY19sb29rYWhlYWQ9NDAgcmM9Y3JmIG1idHJlZT0xIGNyZj0yMy4wIHFjb21wPTAuNjAgcXBtaW49MCBxcG1heD02OSBxcHN0ZXA9NCBpcF9yYXRpbz0xLjQwIGFxPTE6MS4wMACAAAAB62WIhAAz//727L4FNf2f0JcRLMXaSnA+KqSAgHc0wAAAAwAAAwAAFgn0I7DkqgN3QAAAHGAFBCwCPCVC2EhH2OpnXwOssgKBeU8z5DAWk2QnEQDnTjoncYIwXEIzHtALbn4iCAABTSPgqF2EO470CggW/dMiPY0i/BWpMVxH/MUxV31p4fX7X4YXJ6DNNkNrlJoG/nejcsrbHjeF5dsvZTRmmV2zyDN4f3Aw2bRg4B/5vA6iud96BrNaAPNzemuXw59gy92F/C9oY0HEuP9ZgebRHt5R8rm/n95rk551n5ur5AT5eTfK0ZTM5LhT97gSj/3smy/eCIlje4nFk47yCEFfM2Sn5RA/u6aNyRFEh7utJ9+klCsAgCr3QMKFSbT60C6k5x3KrbV29hsPGPQkVWFJqHBDM7V6coWgC0aGXBAEdnXYpjcxbCagvm7c2IumomO6OcaYFSXifDOXV5zsxqSamVksjioYBkYYvWi67KVtAVnHeQa0Tzw8EnfRb87HRRpDjet5ZTW36vKkLuT74adXkQrelFQPszJWuqz6YCMl6jiIF/aQ72uTel0u0oixekgjbsgRt7/SmzaAPVucwv9Uo3V/Sa8UnKU/FOjIyUQ+3fsrupLNl762mJZEFkk4RyAAAAMAAAMAAFvBAAAAiUGaJGxC//6MsAAASApgfR9GsgAC+jOIXZcZGRdQ5fmcZIdJt4FzeiDhWgpFrpifGZ3Phalhk1wV05jQZ3BBW042JoqHWlPi7yqXIpy91rVXdBW7V/ODxH2yOdTmcfeG1HjG3v5O/8sYc7E24BvroQiz5ith42NktUhr+McAFKxFIEHHFuwD3odwAAAAXUGeQniEfwAAF05T5VAETCf2K2Vov3xl4z5nkg+W5oc0h4Lb5Jz7+H/dGNwbbrUWVAdStjfk1G4EtP8CbxnR9NTVqX9YteQYIbp3U8eWJq9OEAAACZN0Jm0QGWA9oQAAADIBnmF0R/8AACPDQmohFuDNfuP3VQuFAnLb21UK7zoUgdiwkgAAAwAAAwLNcCy8fCBIwAAAADYBnmNqR/8AACS/BCfuB35s5fK374KodbVKkU1K5Fg6gHV4OCiAO5VFzgAAAwAKXlU0yHwgSMEAAAC2QZpoSahBaJlMCF///oywAABIEGyYMAo5kh5a1Mt/uEuQQN/4Rqb2OKZVK17PeUnehhvwx84JxUyZ8lpyQ89yAa9MCIbDVJHnOKxWLXUTCjgEceF8U/Pg+RskJyoaIk+JS2tP9Lw+FPA7EK0NX3hPanDH3VOM/mw9muLHjkRi5ynS68+0/ZMPFb6x2PEWy7lj0YaEASmCXC/dB5STFfj6AC8BsWkU6Umka9k+GBQqEVaLopqBvukAAABLQZ6GRREsI/8AABdLirmEgBHtLtOUync+swm4iXypPn1ytW6tTc5ZMoFHwtlzpZyQSYATSHn90LiZc0+rDd6/Yt9jdg/SvufUUivhAAAAMwGepXRH/wAAJMLteyOc0SOgktAx8yZDyXYcW+4maxGgJoKtuxLLHI0yec6K0IqVce4YsQAAADEBnqdqR/8AACS/BCZtqTuCpRdnnDgunarEGdy95+FGsRArv9KNyVlAfZpFmTKP3MGAAAAAckGarEmoQWyZTAhf//6MsAAASBD12jAKRl6Z99XXmh0U/hiME8unoqp49RM5XYUNkyJn+vrR7+yqq/QIUwU9PVPwJW/lKtDWIiXNKOj1EwlssTTozSSvrAaYq5Dawi19CY607MGxR9c17l6fVkNNV2pLIAAAAFBBnspFFSwj/wAAF0VDTqf9Lu71CkNWvygfDgjaaVjaxyPgjzVoGSH4sqadN50l3idcuYGYkAVDKLhhSR7PMRsbqBveByy6tiIrmOvP7PQeEQAAADQBnul0R/8AACSr+Fwl1km9qrIiv2MEBSZejt5LCkJyCR0gfrht516UOIzNwfPR/g3lUKE3AAAANQGe62pH/wAAI78fjDGb9IbgX7MuGFf2upn+rZGejEDB6tou2rWJ703WD9fEVGF2QITDgGNAAAAASUGa7UmoQWyZTAhf//6MsAAASCmULNtEAYhfMMeVVS1CSMniWH9c/+B/bJvSATb3yc9vKJLQ8jMgu0Ne8/n9urv4265cXAMNx3EAAABzQZsQSeEKUmUwIZ/+nhAAAEVMJVgA59n1oooJe/0Km7OhaFpHcKclob0qIAsKP5L88WjEOs1LJGMpqfrDEFSr2s4/eeJ9CVhq6c9/7tkkMdJzRbNap/CKuW20N7U31hJvHXf01QAnVu0H5Ou+AltGmUdowQAAAEtBny5FNEwj/wAAFrxQtdtzBONxjoZheocIFeuSh7sQ6OvP9wLTkrydJUmyhO1Rtevw2gBNEr+VmbCZV3K4LYoB1Zw6vneSe+qR6SEAAABCAZ9Pakf/AAAN0jodIutXPthuKXOt2MaRhWXGPAHniv6cllTkhv62pZtACGvYGPObSflY2iBoxMc4xm/kv3IjbNaAAAAAaEGbVEmoQWiZTAhf//6MsAAASClceVuNTgWBHQne8UAPcYHkVUAKdnC7hqCtITIT4JD4zfJDUepmwUHfOKp8qtS8zZVd+qgUOVVyHMGMELNL+xqYNYhzBbZbM3W+YCLEmiQUVAAguUKAAAAAV0GfckURLCP/AAAXUFZ0xptSOqv2ObkADYz8NPs8xI2bri29nZuTnDdmqPBLw2jCt1Tvh+9alFIaWaANC/anIkLCltiPChbWGvvpEpBB93v/BxCRFfVmtQAAAEYBn5F0R/8AACPYXMARG7m56yg8u2Tjq8AbKh2PJlM7WuQ51pSuNJkdEXoOcTeYBTgjda1VaYzL/Pp1o8xAhTa00G/SNcpOAAAAQQGfk2pH/wAAJL8EJm7uXtdKV52RwknTo1pbfVp5xYznST11W5B0JKABsMIGMMNLVz/tH7ZWXdm/9/iG6ZhkCsF4AAAAd0GbmEmoQWyZTAhf//6MsAAASAHycDf64Qk5B27ySsNkmNnDfqKAjTdee8X7GUGUARioLlr5w98wS5IjXi/3y0C9f80dmUltUAfYZtzBmCgWRRGO+UAZgbffo2trtbHqaS60uF1UV+hryTVgDur9PtdvaCk3qxF7AAAAOkGftkUVLCP/AAAXQ0e3Dd7jt6JkSJW3r9KDC0f65UKr5fAAd2vWfNKcM/qxAHBWxFsCyNaScF51KTgAAAA5AZ/VdEf/AAAkwxdeuYwBg6jNMTnozHtHcqSFSwKzzlJO6yuwqTPvTpKUAEyXh005cuyrDZjWF/zBAAAARAGf12pH/wAAJJK7qSV9tt7Q+iXvgc4AiQOv6nbSuxMtu3FZobHjYsa5FRREWiMQYPvIueeMiBSTLdpZMQGEv7V/hxNxAAAAaUGb3EmoQWyZTAhf//6MsAAASAH1EYAWA0Ql1IYQ8xlU5o18H0+H/pAle0QK/chu1dUg/S9l6m3s0N0Fu8VRjOjAEZF1a7zG1tev35d6P/6/bdK2wuvjQFxz2sAm1pI4fwsqj73+cNUowAAAAD9Bn/pFFSwj/wAAF0NIi981EiCHSrY0A+7eF16p2C99g0B7K9fQ8CAAL20Wo1HCejkaPsZq+/J34o0VnouGQu8AAAA9AZ4ZdEf/AAAN1ebj4bMug4AFwwh7gHIcaMrwZCETJJYMhPDZfJ/4rK6OwtDvrLWzv9EQZWiBj7ADKI5w/wAAADUBnhtqR/8AACTHCC9rVJHhmJIASlkaaHAZx2zLn0yOSYfi2qIboe9b5F/tJ4hIowmOoWbXTQAAAEBBmh1JqEFsmUwIZ//+nhAAAEdFBfEsca1HfL6mRBAUG0lDu+eqfPeMHVZMHeMDKKizXN3+cnb8z98IlFL/heyBAAAASUGaIUnhClJlMCF//oywAABIAfcs4ARkeuPHb8Z/MpJ/brtvfWzcXkDuyi+lpTEaQ27PQB4AernWlnVimQqifLdvpg6VkZLEkoAAAAAkQZ5fRTRMI/8AABdDSIvfKvCMuZDBkHQ4BjXZx5Mv8VViH+akAAAAKwGefnRH/wAAJKnq7tE+qswLpCeRYY+h65kAyRD//rCQAHcLKmSt3US9BYEAAAAhAZ5gakf/AAAkvxrOe94Qn1CVh8x6lAX3jY/aoKXbuGpAAAAAp0GaZUmoQWiZTAhf//6MsAAASEyQVeKB30ARIaGNn5NcI4UmWPXILRBSc6rE30gvS5j3pDe7FdeTnuvEXw7KNveKp4pLcJl449Fm5C0WrPaBgWnYIWZWqmRKd2rORHGPAqjGDtiDeYz8BSjg7npRP+z7Ek27TL8UMU25SjEWSaEHQcgMEx7ub8+inKsLjfxCTXih/vI82k/ewu2B0RZ4wwdEeqz9HfqhAAAAOEGeg0URLCP/AAAX6X+eIAFfBex61nl8nH6alo+kRYsvEcMTC+zAF4FK/T/5kAm9p1/Jxe68muEWAAAAJwGeonRH/wAAJKnq+NSrePxJjHhZoWzlcfdZ6zIbBSsRlTh+coo6cQAAAEcBnqRqR/8AACXHv4v6dQAcwBCkV8BuS5B7gbmwfngGf54A7Z50k5rCtA0gT5uOYOJZwBgN3+PPp4NAtaxjXssfBUIiEvHTgQAAAKJBmqlJqEFsmUwIX//+jLAAAEoUQzzTuATVFN6UlCyu+ugdmjCt90e51+cFY0jQy+rtr6o8mvLbodMFvz2AiJOSckEFD9VNn2gV/UcZMnIN58l9Ufiefn9TpOfLiPvWmhC8SMD9bFIR8Bhsx4q4ohAz6k1ExH2odvijRALCvtBeQUT4pdQ3vx7tttP5HylfA6mYhZX8p6C61WbJe7u/z6/AQJ0AAABeQZ7HRRUsI/8AABfoyneNCqJC9AkYASzIrke5HEhFyjQ5kd4UFen5HJkZ4dOVy5ZB28g+43gE/h9jBDO/ujc5EFSflHOogVVhoAWn0Z83f9Ti3Sg4q7CLJoqf2STBFwAAADwBnuZ0R/8AACWsFOkT/KFLc+jZKBdRtG0VyzkPGoUQMtZ8y7pjf7BoANRnxvM2bO70ulNQ8egwmIzsLTgAAAA6AZ7oakf/AAAlvYNCgprUhNSXVWOC8jcEtLK4sGArI3oPV46t0KK9sADUZ8u9cu8knebTJZ3ILd3usAAAAGlBmupJqEFsmUwIZ//+nhAAAEmcXZ8ax6v5oSkzcIY/fRzv8I/JNzFfookf/cKRqLYl/wTWLOsFAgMAHJfmapYYOAVIjGym55tP9WIv8VV3ggfkTnwAfqcUn9PE776CCJJAe0U1PBJegV0AAABaQZsOSeEKUmUwIX/+jLAAAEpWMVzVDhY0Ued8WC4Xwup1WnvDQB23W3OYaAGETVQ53Uak+/BaCMALeNpQ0XSaFZxxUXRbmHjrBrqDy3LyxM23ogkj+tAAr9iAAAAARkGfLEU0TCP/AAAX7YTcIcB/rhglOFugOfPJpcN+JAY1ss9BfyQH8UXu+xnajMbc/nwzdpmYCzjdp21SyYRWexpDOZtVvuAAAAArAZ9LdEf/AAAlwNst8c91qNFSVAmQE5nYycCGIy2uMN9s6K+Lzyi4EvkuIQAAAC4Bn01qR/8AACSyPMpKHjtDDB0fNCILj1ivSfFm99rr9ACBJp6SCrtViPkHT3WBAAAAeUGbUkmoQWiZTAhf//6MsAAASjH4MO4BNKKvr9FoXKeBLKezsezOGY1LrOazA7P7dMIEOE7LGIIPo7XL9Zd5rZ1MyblpWnjp0DbUIPab0clnj2IoGohfUxlF/+UnMycLtyUsetfdj3xvHCAuipCnEwkOc3EJAZAiMc8AAABAQZ9wRREsI/8AABfthONcKTBbIXIc/knfJAA+U1z96erctd3dnRMv3GtjMl0PO7Pq6BuYaiPv6X5Ek4w9ghYNgAAAADMBn490R/8AACXA2gdAS0LzS9oskFtgXWbG6KFivYUS6nKPQMaJ8AExCBG50urivqfjrPgAAAAlAZ+Rakf/AAAkvYQeBRhxBG5TkhnPSQqxWFPXYzPNr0wrvlXnhQAAAG5Bm5ZJqEFsmUwIX//+jLAAAEn0vtzVYo6LAIFdvACFPCMn7it/6Ot7saCEnZrU+f5ji4Dwsq5nKC4Ec3EywSGXA863VFo2P1DdKYgKoeZf1UgIzolwi4f79ydwc/634I8q/35EQKU9/o8zKM/FmQAAAFdBn7RFFSwj/wAAF+JrOcRoI0jraJA3Hg9H/9M+cu0oqTiJ63WNm1DzsCnPQq5bhMcoOy4ceSc7YwtyFWePvL8RMhtFBIsuBcr4kOYLwmGnYqxZ+t+QJFgAAABEAZ/TdEf/AAAln02Mn2KTZ+7MuPQ4AF05vfWp5OufNgaa0NmyDUvaf/tuaYzozJGkpcsyrzfQ5NjRQZHG/5NqW+lrFL0AAABKAZ/Vakf/AAAOLQZdVGBalA9+0zD7tlZPtZuztlRcZAe8yGHBF32mYk8Yz4Uy/eSAEwT30b6w2QxlAD5oCufSzF0zRdbEN2GpjnwAAACAQZvYSahBbJlMFEwv//6MsAAASgLPV3/YV0Spu0zkOwuHKG5SKhgEbL7JWHAMnR/RbRXClc+OgciNK0ANvLR2CZOB0vKItQawOy1r5DHE0l66f+abDoU//N+CvnA6Sr/pDYoRhziUnht7KMsaf1XPDDN2lQg+u8U3asbFeh65fiEAAAAyAZ/3akf/AAAk2FzAHGWPydUXuvdihrHoUFgCdr/xpDWF/psVmc6ya9D/YRwPHnswGjEAAABdQZv6SeEKUmUwUsM//p4QAABJaPJAAA4XPFkjGb/zhsyM9W+zExsNoKuDBbZCCDve5Ws/L62CjprQ782dDp9gVOxvblNVVahWjT9/OodWUDG1dQ7G9/o1WOJeb0GgAAAALAGeGWpH/wAADh2TZVMdf7Mn+0ahLOnfw6RZIOQKW2/izugQQR2V0Q3aQ8qBAAAAd0GaHknhDomUwIX//oywAABKEMeg2AHRu4yEIzqSgAj5amts9Q10XjxXcclMQVdm5QLf4bb8Ru5/1UdirhzrdMhQ/MvU/4qwoavwu+ztGpYbgn0Y+LeKgsWt6m08MtLbN21wvOdeTC7TzJXxB6/PRyCsl5OrhdlQAAAARkGePEUVPCP/AAAX7ZZ3yQTLKAA3TroQoYGPl6Qi25VfHkl9wqnbsj2VUO7ItgjqKSjTuvaxZt10ZhIBZOT0duFI+MSrBMEAAAA0AZ5bdEf/AAAlus61IAmO5c+D6IEYFsOb9wTtP+ArbDi9ic8PbDr4sCVx1bD7t3n/wEJPgwAAACMBnl1qR/8AACW/G1Uw4JyZEhYVgLTT+Ur+AXHDLmdXPufHdAAAAIFBmkJJqEFomUwIX//+jLAAAEpC4wKONLAHKMw6xcmktUbBNbHRNN9LIM5UOpn1vYan3OWDheNL+kRBH4sEevPXJAs0XwG0J+0L5vBwEWbX5BDSlqJG/GcgEMpCUZP+LLPd7dQFn/vh+E3M5M4EHpyaaYJR0t1Y78hd0UUnNYtnN7AAAAA7QZ5gRREsI/8AABeX7PBTAvAFalFivS9jOsD6+NQu2YDgANVLJDIygYWR+s2jgO74ox8RN5xZSqoGW0EAAAAyAZ6fdEf/AAAlrDsO2tkfSImDUUV9TAzdomsiACYJ76N9YbIZAFO+qF9VWTtw/H2X8CAAAAApAZ6Bakf/AAAlvYQG2ipdRtsyxB6OpnAQphoGrQ3zEAJdsV+LK+uvoJ0AAACpQZqESahBbJlMFEwv//6MsAAAG8uy6mQ+yCuz9QJnYHI1toDW59+j708oWL+Hxp8jdbBTyZh+AHamTjo04kdaIbQBOY++iBqMSSNamqbkZC2h7TfxwSfXlFFpu8oRULewJDpuF12YNvkucaghRmPHJLZEs/7mh0zDqN9cgcH+zTMhspqEM5Hh/ZpS/tvTg+IRY5zSR6e+ub0i+0BMncIqH/AumK8g8yRq/gAAADEBnqNqR/8AAA4mb4zieIMc1p940Tp5A4GMAA+3ve+vgE6LEbIG5U1ztw9/t2+dlANXAAAAlEGaqEnhClJlMCF//oywAABKAfZBAC5vLgpj8wn8IS0gA6XHsXc0KOHm89xY3IpNEefOxmi3mP8ZUYHySX6tewl/+BQrfw9qDfE5JUaQt5gvSgBP3ZlJfowD6viSaHktcGgcq8QyhdgCQqwjyntSc78gm8ThDqcmXeDqo6LBT+8h0kV6836P/LrrjxSqfPzL+M+p8AkAAAA6QZ7GRTRMI/8AABfaQ/tNQD/20Q6qpNLHPaJfQ1BjWEDSHKsnPzKlG3c54jZXOaJ4VELKKOuFpuIDewAAACkBnuV0R/8AACWsCp0YVK0q+Tq3JDMOd69ZVY1IKt/Pcu7CfcARkgBgwQAAAEEBnudqR/8AACXVIQAcMh1vH/gcy8itN0yd7ECiPkEfoadFaz/gxtUcOw2VBSEhC8ZqSqVL1bVPKrrmBhBm1PYk4AAAAGVBmuxJqEFomUwIX//+jLAAAEoC094Az0SMcoaxcX0hzYzyOwZvVZ/4oM2JvTi7XDf5Y9Oy1UEg0eH16CGeHNYgh73UlSMZV0EFs14ikgv/n2OaM1AtMn2vRvY8bz+BZnmqvfOksAAAAEFBnwpFESwj/wAAF+CIjkN1T5QKlIcHVduYmUHZrkaA04butcErU1i6IxACU5Lqd03GlRyregTWeaR3Mw0IhUnhnwAAACsBnyl0R/8AACbDRnkNs29Hmt953HK6NJW5ncbc1Vw+yggZQRR53jK5SndAAAAAMgGfK2pH/wAAJsfCq6ADhW7wSNIbo7Ty1SGPyQVZhrdiQcWw5kyrcbkui43OECxhKN6AAAAAOkGbLUmoQWyZTAhf//6MsAAAG+hXvD/EIAWdyrFzDiwbHRQyW5mFdm3cDcklULs5rNiWef8dIxzjVVEAAABgQZtRSeEKUmUwIX/+jLAAAEwCz+OYShW03ioi6J2CMsWuNdkIIzjjXLJn2Iei3CeehV1yDsSo2cKvvn0FNpO9T2wyY4ATjwl2M+aBEZO+sgDTlih+0kD7+kOqLQUE8ivxAAAAN0Gfb0U0TCP/AAAYgk4cv9qPIyc4Ki+UpOLZBKrf81V+Sfmhw1qom6YH1NWtQ03HDRSLvrJj3pEAAAAuAZ+OdEf/AAAmwwIxPi2we7KG9CBb/Hd0PIJArImb3cgEl4Qd2VAYu26LblgIOAAAADgBn5BqR/8AACW/H4kp68cnRifYz7Ij3fB8vuy7R+fKW/AR7xrmlveHufNwwzQx0xCxE8/+E+4HzAAAAGVBm5JJqEFomUwIZ//+nhAAAEllQVIWG1CcjMo0Atmc+BrusN8FeRTBP+tiz+nSdf4tgJsl45zoRbYfG/JGnPqxiIqGOPtxa5s/uLczFApj0Kat2cDqOsWwDWp1SJSfVcUgrtjilwAAAHdBm7ZJ4QpSZTAhn/6eEAAAS1EJV327fq+7Je3Hja9ILeC453G0+f+NC+NuMayS7U27tGSAABM4VLreELplIq0+1NnG+DH14IUcHkdecTE6dY9GxoCyeXrhfvdGH+W4hP2XTjmrzMAwmX4tv6kVZU2n/UWbJwtpyAAAAGRBn9RFNEwj/wAAGICHSC2GseJApM9EBMrTUTZ9d/vhrrD+2j4As+8j4dP2CkAPRsD5sFzgojoHLfDTOTOhkBVF3Wqdbqm2HL/+RhxMlTjUmXmZExggqDQSiGtRr4THHw1MEIsoAAAAPQGf83RH/wAAJqvYOzQPFNT+xqgcACrPU/Ty71ZovpzgXXQt5lNVf+eYWcWppXq54QNoAq1B5g8BEaIksysAAABNAZ/1akf/AAAmvxGpIAN1pl52cuCivfY859+gMWULurFm5qd36MZ3A/xaTv82Z058XxrfWURiv5aT+LZzwfQvFsCTG7lFkvEbp4DWIuAAAABkQZv6SahBaJlMCGf//p4QAABLRQUU5TGgBuUvca1O5X871jL4jbHx0AcGynQztXlal1F7GisAMcAD9ZM/mZxFpRWrsV9h2LXQy0AjfR7X5cbbja+JM7h7+oRFnaHr3swXiXk+KQAAAEJBnhhFESwj/wAAGIlkKtcDitXCKIIADR9rtNK9HWNeBG0CWYdSQ1vJK6moEXPDCWAFCS5HwTCmWKgsFyu8XHxQu4EAAAA7AZ43dEf/AAAOfD7SEmq8uGl98n23s7w5KAIdhD4322peBTV79fWkQH6xAL75qJLJJIX3UOQ6yjbdoeAAAAAxAZ45akf/AAAmseg0dAgG7YAALeJWuWKmxd8zqhHOr0r16zOqvcfDedUGqjQX/sIxdwAAAGRBmj5JqEFsmUwIZ//+nhAAAEtUkL7vkARMe8wfPNGVbk/Dedyh3rp+ciMEn1UDP3cROf8LyyVjpsjaTy7mC7YZvcqNBYz24Ik/vY9XKQaJN4aZWS/37AjteYgZ/UH5jHzWWowwAAAAOEGeXEUVLCP/AAAYiNKHGxgOJdXpkHQ7H/9qACQTWVlLgqWui1AAuh45opRDazkbPZi1mLtUtnO5AAAANAGee3RH/wAAJsCZ3mcsAIwAL8Gqfmqo5NpPR0RVQ03FOFoNQH630Mdcva7IXBWA+5zD1Z8AAAA2AZ59akf/AAAmrl7iXcvxc1j3xAUSS6LthqgoJSQ51mrM8YAJo8n70ASqWNv55HgXaqSRkzuAAAAAY0GaYkmoQWyZTAhn//6eEAAAS4GMDT3yIY7LT9WIfQC1ym2QS6AndevfolNwm3sQy3DxdQBii9J7liwHc5LZ65ZebWywAsheVI3y866TPkS38uLkBpRXp8Gk7K+UcLMgoPbS6AAAADVBnoBFFSwj/wAAGIjKlGSNYx7h1wHZ4AJmpIQCFbGKpNFNiL+bYg7/HUKINH/9qOgI1UzO4QAAADMBnr90R/8AAA58PtNhDU2U9xgbidFuPjzoAC6AGLnbNA+h4QevbwHc6+v+i3nrpr967oAAAAAhAZ6hakf/AAAmvYOBygKYAAudP1reZ8utoF6gJgCpvjZhAAAAhEGapkmoQWyZTAhn//6eEAAAS0OQvWACMDdxDvI/IqYynQeNLr0x0F2ufdCBKOv3rj5tYcaeGupdVGHKZEBFyUJU2NA3T0C5oLx49jI92EEuibUkHhLF/c+vxaQ1gYnPphBFpujhQIrpw6CJveHEFqZYxKs3G2xhtOHEVyBCNnpFa1PU2AAAAE5BnsRFFSwj/wAAGIjKfl24tAAJptduZ2y78G4gtVp25dvDxhUOlGIZYySlbYCwfRKr9zQvUsz0vEGnelHMSukdwi0G7E55I0thHUW75UEAAAAcAZ7jdEf/AAAmq/hbeBfVSqfpyGwGK3WRqWyDewAAADUBnuVqR/8AACa9hAP8M+OANMAEprXCcYyAAMNgyioCD9MOzQ1OoG+lCsuW2Qnwkp+TkjdnwQAAAHlBmupJqEFsmUwIX//+jLAAAEwl0XKKGWAIlUI8CxR7PZ8l4PnjdaHAHo9KX6gyku2L1mnIK2Nr3R2dwbxK/D5CLvq2Sz+u4FbtGbJECbEGWbbIQ096OM82pZOGSJtCRmdtB6mGbYZUa6p8JQg/8P3JJorbs2DIokYhAAAAO0GfCEUVLCP/AAAYjXC8cVgsQxZKZ/Oz2xK3OQVXJKAG61jUgOzlWGmFBchsfHwtLPG9Rg9fgVUFR9soAAAARQGfJ3RH/wAAJqnq9DINlXSEAbABcT6ekl++GAhvnHOWMyITK+7kzhzp2cKe1vfrt7IUW7QBVgBcirTUphqr3P9cuX33CAAAACUBnylqR/8AACaSbtGp4jgVM/OO3LmGlch+rlqwPnxrAytxPUMrAAAAXUGbLkmoQWyZTAhf//6MsAAATCQB9thABw7zpIJdX0Vwt8lXehAt7r72EcLZsY9EWwp55Vc3ojexGDEvmcWI/DaVNPsG3dKXIp4R1oFrV2OHZeEHi814tTsr5r9OWAAAAERBn0xFFSwj/wAAGSl3gGrKchrcmd2KboE2P/Idc/1KGkTNBjeRT0PwAhOEajyrjSVEOh9gJ7p6leqMos/AaU2oUF7tUAAAAC8Bn2t0R/8AACasOQXgMcbQzJwnrRXjgBYs+dmryFf9v3j9L5LLi5zCgnUNmCibQQAAADYBn21qR/8AACfZgiFuZTqVqgwsgd1FLG7kPxtJgBNIcI+8QoNpfPDw9B5D1o6e8tIUYrcXkG0AAACWQZtySahBbJlMCF///oywAABOEHszzD5xdH8IgbmRAC386banpGVuE0P0bwQrD39lH/zXAEi1bHKlxuiZMAELIDcysYJSC1/wdLn6lBwJTfSXkC3GgIg8mlGa883cyHUC2yduy2g2ze18w/1rsigUPYPRm05aSA/9e1tL0F+doaHhnuL8U84ajPQYgqB2s2nT0AMr/wU3AAAAQEGfkEUVLCP/AAAZLdhulm0fDxJfDgdlJOMIuwAsOTy7bMZvC3GuuQaXYI6kZVHwbc7c61/oXyyamOkXyRE4jtUAAAA9AZ+vdEf/AAAnwm71xBcQkViAaN9wSogTUaD7uOEN6KXKzE4Z7bX66/lwgtWTx5DMdc+QWICgZbipIUwcuAAAADABn7FqR/8AACfJLQJA1aTzQPM5lQ2sR9OEsFhzZLW+FfoJ49vN9/EZm63XdFHqQ5cAAAClQZu2SahBbJlMCFf//jhAAAEs+szloBR5BjVeYwp/JBF2dXTTio8S8Ajh/6QzKIcK2IG21JkcxYKDegfDhULunoJ9qI+grzZUBTBpBZvlILjySDDOlj+FfBIJoZd6zuu0XlBXRVtKXzFzYlXOaXoJj0A6Cr7WYAddtWyw03wfm8kbW6eJWeUM9OyVWHpvaVtuaSVw3XyYBDBxdedhjCPcq15wRu3+AAAAWkGf1EUVLCP/AAAZNveAIk5gJY8xy5mN847sW1GEN7rZxlf1jkQnZ0rq7aCOgwSLJ8lyofDxgs8zmiAG/VWnrldVniXGAKv2V7O/CqA7ELGeSypICv9pIWzllwAAADgBn/N0R/8AACfeFtY4qoY2TwuATa6t7gHj5NAfKeVgeN36C+70CdP0/eUXzW9596/IhFwe7RbFgQAAADoBn/VqR/8AACfjZleuxx5BKf/4kgn1WeXDnIDP1a1QrFOPsfPw8foATVpiR2/p8z+Rn1+nZmjXR2qAAAAASUGb90moQWyZTAhX//44QAABLU8s3LAKQjpHTjFPzpPjS23i4YpbSuI2SsFfgkHB63p+/9J2IP6VV5CdeSwPLGIaUL9XD3VU24EAAACAQZoYSeEKUmUwIX/+jLAAAE4DUHuAKRrKxcmVLXqlsSl17ZolMuA7k9Z5Uk1wnaP2Rh5ECfRYXFy7DhtYpT2i9XXMf/dzPdZtELDR5kvWv5T0ZBgV84aQYo03Lx8miHWbmcbfxmLeJsKQ4wQPLKjVbDrSLN8tLb1I5o8i3x+LpcEAAABtQZo6SeEOiZTBTRML//6MsAAAThC9RGANv1KEyFomp9CTTpx753jElSPE9gCuLqNmYO9DUTETBBYpAIbF4ltdYaxgfxocaky4lCYR+qssqpG6i4L4EFUnGQuuicqbz4YHWGMk6eNHnQD6sT5z3gAAACwBnllqR/8AACfjZk9QYWKi/3FV4NeCfkIRdDVjVejrZthCtevBm22NHCzx1wAAAF1Bml5J4Q8mUwIX//6MsAAAThRAaEAJ+OGnSE2DEsNePHYWBGAB7FgL9o43pg4wxYKnvqAVqtV4AlyhcY9h7oM755NZ7UykKDWjOfAvJ/py2W9ktdKzJa1FK3xc+fwAAAAzQZ58RRE8I/8AABkoyn5f02Ao8y6eoighKyvW+NZfJ1obVxOZE0GJkzKFU7SECw84RxHXAAAAKAGem3RH/wAAJ95fYzK1d3gK7476oPbJKLoscx358s+KngutjnaLYsEAAAA1AZ6dakf/AAAn2ab7Bsuf36o7Fm8UZG7FZxYcnngb7/934fmDOoAPuhfkuswX+QiA/2xFrVAAAABlQZqfSahBaJlMCGf//p4QAAAc8p7/DguoJ10LIagQARMb/VPhDK8J+ItLJyyd/UBUh9+qdOlFClLO+SJq2eSQgO58rXgqKdzl6gqwGnFj8MyCRFJXrdW46cwvnZuRlPw+y1IxcYAAAABZQZqjSeEKUmUwIZ/+nhAAAE1FBUy6cH+xHpe/VY+EW/gtm0vsyCXkD1G94c3yh9a8GmSSgAbQMeP3A7FfP0UCrsaiylI1MWvcGl2WOIesMKVhRnvy6SqUCnEAAAA/QZ7BRTRMI/8AABkiazsJWMyuDIU2HApXUlnbjrhZcwAoKIRxCbzc4PfRb200AC0galLf/bsz/xiQx3bR/msWAAAALgGe4HRH/wAAJ95fafT9Z39lGInHPmbxFXpfYs5cbur9zYf4/Yefl/oQ6bR+StkAAAAiAZ7iakf/AAAO3QTFTL4+R/muTMkbZiJ4glW6Np2ERQEnYAAAAE5BmudJqEFomUwIX//+jLAAAE40PPOWAWkzIYUir0AsmafvbfPSf0VV3ezKi7RxKhH8ekdotd8XJrlI6AcYW3dIXRHVMY8jTmc7ompZ7PkAAAA+QZ8FRREsI/8AABkiazL7sSgAh6P3lHBdPGVUxLwGTJBIwdi5Wr+9xU5Xq3VC7m0jGALkYN0ZgbjhMJLzK2EAAAAnAZ8kdEf/AAAmrEJUJQDf+FlD/mqRBEqluuLfu8Pe0cl/VqleglWVAAAAJwGfJmpH/wAADt0YwWhIJ+BYr+idZyn3gAhzJY1tJF49iAFqGTYxYQAAADxBmypJqEFsmUwIZ//+nhAAAE2DCxJjFrA3B6rSo5njIATRtx7quwxuOWE77vd16wWW+plDJw9OFaaT0nAAAAA2QZ9IRRUsI/8AABkilrZK6g8euGGIAuy2GWQBdGLi4A5iH11x5lDQwWI+ePGLqh1yEcKXxpfmAAAAJwGfaWpH/wAADt0NdLEQWjOBQqmEbDPA0krroEJb6BkHHfoZMo37swAAAG1Bm25JqEFsmUwIZ//+nhAAAE1yxtTUAXIbpt9rxZFIdl4yQ7+5uXWFQVoSh0xiHxbJtPJpIxOAx4PuxB5159U2WSsiUkyHi6zOv19h//lxXmy7vhXWtNlGQIhz7lLMiQevxjgvhO1eokHC9NiEAAAAO0GfjEUVLCP/AAAZIms3a1/0qfs36wEKG5jZbwG+mZjdPOeverIAJaoBmm0F3J6RZTsSCbg3iLqdlDaAAAAAIAGfq3RH/wAAJ8KTTYQwGg2IwImgOF8Fw6OMh4NO9WLBAAAAGwGfrWpH/wAABa8wl1/Or9PWTbTfawq4kEY2wQAAAFlBm7JJqEFsmUwIZ//+nhAAAAsfs/drJwiZi4AAS+F8MScngqvMqBmMZDLKtc2P5dyt4z84nAiChh8ZqlX+56pWt6mB5WaBycB/uFn3QLA7hzbjMqFLcqACwQAAACRBn9BFFSwj/wAAAwOLS4fCJm9nGuJNnzUlvuvkN5NhGPPQU04AAAAcAZ/vdEf/AAAFrPm05b3zHJ8rVjsGsUulPaOrFgAAABkBn/FqR/8AAAWtMBNzBVBGjSdTcMwsEPehAAAAi0Gb9kmoQWyZTAhf//6MsAAAThpEXNQBCOYL9otXtPlSfanuSxZrlrOJashrd+wxTztR2bUftdn0cEI2GdPG7zxR5sLH2V7MahvNYp9jjtPdnf4s4OJwNpVolGnqoH0bMKHUJRnzXHGusjzdDBKGoVg3mhY6ziLuRYA6thwgw7itTsJOh6eQJgcidagAAAA6QZ4URRUsI/8AABkXQcRmzoL5RNG00L7BmnZGIlfv6AEQdSTFh6u3l8RSGvtcF6MYTj190aIg1dd9iwAAADIBnjN0R/8AAAMCGr+F+7DQAWrALvBlCN9mJ6QCW6UymVWr2CEwge0WsQjcNSAqKW/3mQAAAB4BnjVqR/8AACeosexgU2GWXUNs6UraDQCYrDZp7tUAAABqQZo5SahBbJlMCGf//p4QAABNX6nPXAF+5hHN79uX2CTJuIt++3CAkQqXA48VaW3wHkpKMUQuhGn5hG+laTJnfJ1D1aWU0SHt/dnS743jwWCwURIbCTzhFiP2Epf+MHKVJlNZ4WRk1kSuCwAAADFBnldFFSwj/wAAGNUsoOkmg/eVXxKDcsACduoqqoJONBPqw70nvMjhJrbQwCe8KcWXAAAAMAGeeGpH/wAAJ6g7qSijDbB1LjjmYALWf1y/UYDCa5DIrKT0U6mHsadcs4gP5TIo6wAAAJ9Bmn1JqEFsmUwIZ//+nhAAAEu6YWXXOeyrHDrgCt+vC885F2cTUML+bo/OioqaeNxtWJ1DI35QXcjSX9Dwf7zqqLJ0qG6Oeov2JDjaf+n/gsy57Wxx/KbryJcPZK2EoopuM9AOqsV4PuWTJi9HANsNoDuhRoI4pyLbk2k/4b5coOH920i2sSd1o9DmsZiQRJsDNhrqk8ZWMkr0Gx1NfW0AAAA5QZ6bRRUsI/8AAAlr+uybVkKYVTqmTeOmqatyRyWMZq1VwAHt13AgsJ52M2ctqBs6Lvk1pEYf/s7VAAAALQGeunRH/wAADtBPKNvf3Nc0amy54hDTHKTfv47nlOZZ3KtPboiVHyTA5fYg2wAAACABnrxqR/8AAA7Zzjb0sVsIjsnZMtUxsOKwa+qqZwBRHwAAAHRBmqFJqEFsmUwIZ//+nhAAAE1FCdyAOYe+pfZ8cZYCXjhGcF/ef/ZYwcUgdwVTR2YrEh8oPJigyyVI8KLDViSqBtbrCqBfjaG29/pvIx4vIlnS/f5VCjZYH3cDcC+xBkM6wh2nsNUlaD6JlXNwd6hQ/Ue4MwAAAEJBnt9FFSwj/wAAGRQyPx5otrnt/DOlSUJkeWHEdWTXgchqwJWkMBJVQAtwcbUMSeH/1VupjoZv3Pe6AiiWTRGktiwAAAAgAZ7+dEf/AAAnz2WBPCYlZ/Ss2U+M0jxEk+xpb2JXO1UAAAArAZ7gakf/AAAO2VkPDREuMavk6vGM58+rD2Qsp28c3vZp2dNqQ/yQJC9blwAAAGVBmuVJqEFsmUwIZ//+nhAAAE1FCDQAg5zca0enYmewYh8gR/dm6vEA3WZ62jGqXxAOpeg1naPsVVXRIhVnvErr257TOkoaKtVjtmUYwMjOELExfoms45qJTwgw01NOiOrr5wyRgQAAAEpBnwNFFSwj/wAAGSNlIAj2Ty7kOOIkWLzL1PTexgJ0zV3weG0xyDtkua1rr8FHyfZg3iBS5NKdWAX3Gu++JX5wwpH0cGHtY7p2qAAAAC8BnyJ0R/8AACfCuNkPZw3A7XFuulPO1ABPuVLXj4yrpCxVeoEkBBRSIbnYDgjbLwAAACgBnyRqR/8AACfZcyikFRb/7xaTLpGmEy4YdZNMKvCQRE/2KKL/g8cvAAAAZEGbKUmoQWyZTAhn//6eEAAATVE+9ItInD+yIiAS75SciQezL4Co9UBLtJ3v1r9t6nTuDChqu3M7HCOt/x/J2tl/wvAClzL2k/DVD7IuOSSsjAoHHsz4/m6v+dL3iFFXCnzihdkAAABBQZ9HRRUsI/8AABkimK7i3K/bolG4wYRJY/TXZu/8qOb3lU+iUCACdT9AdKz4kG24p6LF+T2LpmAQJLqv1GVnsWEAAAAjAZ9mdEf/AAAO1ccymdv0MRsQpBiocSWFUf5xMvKARtnkr4AAAAAqAZ9oakf/AAAO3z1Rrg5UnyloR2Qva0mA97BfgV4kwZXMdtIHT+WlyOXAAAAAaUGbbUmoQWyZTAhn//6eEAAATVSOLSABFrlOR/1nKck5PAJwQH4wamCEYTlIKO4mvyvvauiPyZfuBz2m5RzB2wdhGsKO4Y4scRURbp6Q9r8Lq72iFMkEsZ2gc/X63+5AhkgmBjXdMuoiIQAAADVBn4tFFSwj/wAAGSup4L/xzz7xs8T5iz0Fmai1WU6BzWXwHOGNNozBn7qZ1BHbFgPA8ubYsAAAADQBn6p0R/8AACfeg/giXpBkPeHtIgl8ZDjFrZGqXTBHenwsSoASwtG8hxMz0xLmf1PaAhy4AAAAMAGfrGpH/wAADt87LvFI3WqYWuMYaIUNP7IOQNS6tebhxwga95qWnDa//EF6mVndlwAAAGRBm7FJqEFsmUwIZ//+nhAAAE9q17PIGSi+rtJhhmp26tp3+dXIRhvsoWTglOxUj43cfBjuOWY6me+vKpS6kwXQnavAozJNlKKjq+fmckKBl1q5CF/sDzvfWlySR0V+Khktw9aJAAAAUkGfz0UVLCP/AAAZzTfp4LoAbh8v7D7BAV4oVlGJIep5HV73VL3JQERfOl5r4GE4QqZAFmiAqKGGLp5wzbk2g/VYWN7cn3KymHTXbDff5YH1WXEAAAA9AZ/udEf/AAAn0Hcg/dVIALH+3vqbf/2/Dmc4vgJ8f3Pyk8LSNMVFubvcGvj6YgdZPsagvHERlsClpMyy4AAAAC8Bn/BqR/8AACkD/J8QdV8CWDFIlhp4tbJD7g2jRV9O2OhaYuDzm/TF1H/cWzU2gAAAAGVBm/VJqEFsmUwIZ//+nhAAAE9s27u/ry9x5cAcw9VwtUwvAXfKN54D83s+X40k04qigBOso2Pe2dX0UJMyoOffh/dGLu9KT3c52sxGUVYOSJ2K1duli+1X0RQHq3PO3C+sWy3ttQAAAElBnhNFFSwj/wAAGcl9Ll1LUMACgcVi95SO6/SCTJPls773xtfCOJQT5McBbYCFmaMbF77P9lQm2f7x/uJFWZpedLV4QgfZefiwAAAARgGeMnRH/wAADwpJ0A/baPgASxT82Z1dK0a2fKdTUIO3uskIVX6ikoLS6XUCJ3qkNsCpFaghqM/BBOssJVuEf8xHXezxA2gAAAA3AZ40akf/AAAo6YB/Y6VJ/U0jBxPaa3WE08IyXjA0oocIFQ2o7KGsT2gWtzr4Cs6Jz3+xzgfAgQAAAGdBmjlJqEFsmUwIZ//+nhAAAE/XsJk/QV09fYgzwByTQsYAOH+FeLd1AsVnBTtgD8R12PubVtAIhRI/bNnuCwknW25BpfMI6T0lEhrJGD/gHATdbhiLetrH3O8j2A0SkFH98gQZfsiaAAAAPEGeV0UVLCP/AAAZyJtN9QjCmjcAJliWEmXhgcDcnIViEJNzTOSplmZ6tNgZrkM1W2fBJ//FpZyJBVb2PQAAADQBnnZ0R/8AACj7VyYoVs40b22kXl7dhxtgJPFvADeC5nO96wkHAQcsW9uMenTWQHv/bDMPAAAANgGeeGpH/wAAKN7A4bAUWh0A+85YX2cvMLeiLoFbmX3Gzp8uABcMIf5ldsJd27KSehP/ggV2BAAAAFFBmn1JqEFsmUwIZ//+nhAAAE+ifmUBKQlzaAxnls1VO23izdySbF1eJROH8fzkeFKnbVs/dssdxH2UFtAAz8SMjbUsn1hIruDhMS/VxKkj5GkAAAA6QZ6bRRUsI/8AABnAh7cORaADug6AQf9vNy1wBB0Xzh3P0OW15xWWzkFXoNoZdcHbtZSYUNOoHvdgQAAAADQBnrp0R/8AACjgWDUA3XLITA/AAWLLf1rB6HsrZd+615poLjAZh7duA2LnR/2G26vQAbAhAAAARQGevGpH/wAAJ8oEqlmoABaM+BO/eZAXmu1BGEEPfwt8hHEsqbcxPEtEArndbspmO/kxaCLbK3Ty3RWYSaz5sWVh183YEQAAAFpBmqFJqEFsmUwIZ//+nhAAAE9rWNoACLnzutSdklL0mvn4AmCDqiXCsdvmsNpKUrNrsv39CASqiEwLEAL6WODcnkLoNhFUYeSmOESReee5UDg/4lKBlRJKjMIAAABnQZ7fRRUsI/8AABnIm2YGX6E440B5oAP5q+zYk9LyIkktlUhCSzWPXMFPidUqELGMNMLt27hlL5T9RJhI4MMIasZm356Q8lbv0xIGiHSNS1zKJhoMbQGWa4OM6nLw8NXmM0UBpA7AgAAAAE0Bnv50R/8AACj7VyYoVsms5YABEbW/mX/TozsrbJ5Etr0vi16+1qTfezFqK4Q2tKMLKbseajleXJCsPbfln+vlweIsEW8EMnDBcWBhpwAAADgBnuBqR/8AACjlVez0DFZ7cvuvIAT2ACWqR+KPQ2UqDr9lrV4zQLkmH1/Ffv38IuPIBkt+cijjwAAAAJRBmuVJqEFsmUwIZ//+nhAAAE9rWfJQA49ud31Gsv9LU2j4t+nqzdAwzx1hOX6uQs2dJcdmeT9LheulpOu+7QXBsY6fikef0OHJ5oodGzesRrhOU/1jDXNg96E5noQzIXdsjLbS+JolJV0C1OW6d4VSrTETElUdC0hbqfiJ1bAGE5I0UhzYmygqIAf42uxgi3h0tJzTAAAALUGfA0UVLCP/AAAZzXC8ZuLotOsDTQsS7cML1Bz267gf39bmm0JDmCB9mr3ZYAAAADoBnyJ0R/8AACoeWecyKycWwgKyGAAC3iC31hqUoQdO1tCEFK8FDrlBnuE2mv0DBclNb5Arub2PJxYFAAAAMQGfJGpH/wAAKiQEYmmatbenZTXO2i9AKfRBPb/75zNlmk+wbAAmpirSgAEznmhTY58AAABWQZspSahBbJlMCGf//p4QAABRqwprWu0BuWodNMKXpX2EJf83pq/Y4v4arGFBeUlIe4ALTM79qwHvEScJ1fu/G3pVNtNRW1BzFAmifyaVmECaZkLFoA0AAAA4QZ9HRRUsI/8AABpom26m5nTTnxgeAvQat42aabxnmCRv1I+X+r0V7YCdWD8I1XH1r6h++h/Bx4EAAAAtAZ9mdEf/AAAqG1cmJYxrmDD6eD2O7wpQaSzql1X2K86DkblO8npz5C27d64QAAAAOgGfaGpH/wAAKhluOJhp81NxMaNg6YJvs4FkEkNAUsL7phrPsUbAAnSE/9pbxuI2CH+VnACSjiQeHwgAAAA/QZttSahBbJlMCF///oywAABSfOCLE66pc2BPfWyiDZU55sez2Saqa6v/5eBzuu7wKZbCH20cZceV18j3NeL7AAAAQ0Gfi0UVLCP/AAAaYIgokf+1bSgj5UsEfcVoVq0/e77G4fWlDcElWJwqLjf3Zukll9QAsQmiw6HTNgT5qJ4vqCBoOu4AAAA6AZ+qdEf/AAAqAFg1ATMoP/2z6JKoinki6RlLkwcd1c0DnumaaodpBcAPPgb+gBL48FviiuN2O8mNdwAAAD0Bn6xqR/8AACkW4oARaEEsYQqMvwjx/cMiWTpzKlozzMCqBPed6SlOq986mOVhFcnDBAIW19VZWT8S/13BAAAAYEGbsUmoQWyZTAhf//6MsAAAUoK/cwYAWCicfxZJadN1ni/xX8vTMgQBUZplBJodY53t/zKXDYekTIdYmolPnfx9y+Sp6zqH94wDVK6i3mOX5n/WisB0EzkCOGR1dmhnCQAAADVBn89FFSwj/wAAGmibT/K0peZajH05dU4JqSRanNYYjxXtycMi+i+II+QpsBOA74UIyI7DgQAAACkBn+50R/8AACobVyYoVsmrtHLsQ4vmTJUrr2U0JJdDAyTsgmSwHhiw4AAAADgBn/BqR/8AACoFVBBCIM+ldWvThpCd1/225ssZVJBQqaNABtAC8jdek3INeHS6o+/mCFZrODthwAAAAF1Bm/NJqEFsmUwUTDP//p4QAABRrAXpE2H59KgZ7MSEnb1onoazcq6PKeZr2v+8FcI/gBpPUHWhaTpfTJl5hyWJOXRmCQsVB5LLVck/fDyTnulCXvSDbW4gmxw92nEAAAA0AZ4Sakf/AAAqBVXh84BLvMNCxixij5+zgAXEwlvqahTRaVRZT4rj6LKx3xVYjHkFM42pgAAAAHNBmhdJ4QpSZTAhn/6eEAAAVE6ynOtSMuBjiwA4spaFp5UnltTjolvJjJowDmAnBh+9ltxn9mMk8HiM64a3XeO2q8yMVeYy8v+p6rdHVPhIjqEVo6H/j6AprItQMWXsgFGAstta1JSWrgduiPymScUE1dY4AAAAPUGeNUU0TCP/AAAbCXfjlKPKF3f9QT92j5Wai2THDHZ0VRDImwbt5Hipni94mYqAEy1RH/4+fjupmAvsuSEAAAAxAZ5UdEf/AAAqG1f7TSz2/z4yAC2/dv0/pxPxNaGL1xl+qQVfht67LNzY7gaHO7pa2AAAACcBnlZqR/8AACs493kGF/OZw98RGqAk0N0MHd2d6LpMrvUgviSzfrUAAACQQZpbSahBaJlMCGf//p4QAABT+7oZhHAFBDAsxOhQcByf5HfxcD3XxDFN4YGoyUYaEuPT9FIvh+ZV8Ftg7/2KZW9mAAjjgQt2NaaoJGUc+o4finhIKebiiUHqL81fZUcC6EnbleYLuvdN2xMO6aJrHo9q6jC7ffxaVKA57rX7m1EWgbpi3HH/k7qtmh1FElChAAAAOkGeeUURLCP/AAAbCMp1iMU61wMDmZozr6cVL+5QkL8rmTaDhtT7sgrmNuhYmKCSdI40EXETlVVuv4AAAABCAZ6YdEf/AAArPjThbBD7FFf/G91V9DAButL5szD8zHSpYC91Cb11gySgGJBKl18bM4tn9ihWNLTZb1vDS8V/h1tBAAAAPwGemmpH/wAAKyVT0z1JAaeXTbGOaMNnnxjy9w2SuMWirEE8g+Zbq48AGwdokAJas+9MNHsKrgfIFJ9sdkLraAAAAH9Bmp9JqEFsmUwIX//+jLAAAFTYV8qniFwcplywd4UVTt5x1zSNDxy6y8CkAcw9ceFlQDrc3ntw+bScS5QHT2ca84VVtX6EDuk7MdOGlRXHDghsh6+ruC7yeWFSf4P8812WT6SRoiMGXK7aBCNhJMcB5zES8QIi7hYu2EulB46BAAAAR0GevUUVLCP/AAAa/+xEpc9LUJ3FanJ8MlgX/3gjPUuAf+yOB+7a2CCplxJWfOYAW8bF1RbbW12L1T1+8cr8bpIkyB4lSrQRAAAAPQGe3HRH/wAAKyBYNQBUcxPZ+7WEop0rSjAwdXlJGuEt3JHGFLULfHX6l2b3UUAH7I3zciXdoQVOnIIwU2oAAAA4AZ7eakf/AAArJVSDUuTiKAPAKOCwsaJD6wJX9mjvhVZ7zaB2CiHZqv/wt/q3dr6hiP6iuJiPdqAAAACKQZrDSahBbJlMCF///oywAABU4Gnppx5gBYdw8zTnSxtLO0i0Xy8FJykZ5u1OMAhM4qHazM4RsBURSXvZkF/xw7bWrpehMQY8ckA1TjMh0cOraawj2bZRZA7dT7lMDU1L1/a2MVQsCIHqYGpLNw1OabOCg5BxiftKxJjpjXmpxbvTEqk3uUVoAByRAAAASkGe4UUVLCP/AAAa79y7qYKglGThTh4ZpgRrbMjRRs+zNDMTp9RnEcK2+ZgPir6wK4NBAtQHj48AHGye6yFvBYvfefALoY70hdXmAAAAPgGfAHRH/wAAKztXJia3SR4lNHsXaTGIotIHdVR8bNesPYaXsZDOHu6SiPGrayYugAfswrn1ABYta2gcV1lBAAAALwGfAmpH/wAAKyVVyHzW1tNNtXr/4BoWm0TZdU2pt28xLMb03FlpNLf9jYps5ODAAAAAakGbB0moQWyZTAhf//6MsAAAVNOlCW4QAjtWtsfR4anYHVduWv4vvH6nXOY97dOr47Z7pBf8r43xRuGIV9egVcUYuPEQ2pB5HlxU1SzqPqn53iKj1YiLivSSZFOngW8o72OPilHLN/b0TGEAAABEQZ8lRRUsI/8AABsIm4QAHDGKgMlVhLp4T7GO3hNJmuqzqZcVhngqpE80fdsiTYAENCtnR4FiBDJSxdsUwcWqBcRdrzEAAAA8AZ9EdEf/AAArO1f7XldUxJDWVhh2WB+/GIoErt6Ykp41St8jfyUAEPuafsKKHXsYxyXb41LHRl47jjXnAAAAPgGfRmpH/wAAKzepdFCYhoXfl/4WyhS9Wh0mwz9ih/w2ywUedI28v4hDqAPuqgATq5p8VN8E9KxUIpO9DXmBAAAAZUGbSEmoQWyZTAhf//6MsAAAVLyZPWAFeeThFVzsz7ImVjvwWqg9d7T47RDKc0yBBLecbiBhvyOMxJkTsYLIy2hfzrSZHLiUrgiUqnsKZ383S5vqbRTjiUCz4RuOoPjtnW9jwa7IAAAAZ0Gba0nhClJlMCGf/p4QAABWLBZBju22c7fwEoGncx086+SuSJIWPYhQGHtjg7cb8ANDS5joof2wARkb/VlYaK1z6cVQHOq6OjbMjU0N5uMt5g12UDfrh1nntsDmSWiks0mikZz6ELAAAABAQZ+JRTRMI/8AABuphYRguwGXHdZPLNQnQGXrxMokyGEZouvRxkezz93sIMiNybSqBRPcaRX7J18d/WpoOcN5gQAAADwBn6pqR/8AACxXqJ5XX0Yfv1SM8qmoczqg+BAxptTb51nTBvpe/QAmTPvTnbTHmCxlVN78jk6paXtydVgAAABNQZuvSahBaJlMCGf//p4QAABWO66ELu1r0QBwFraZZAIhMFSuW+9n6kjeY9nLDb6nQAESe1OfHyqNybncLRwHzORl9zXlec+2UrbSEIAAAABPQZ/NRREsI/8AABu294A5a3U6wrDJSsCL1JBzq1OtZLpdCXPe0KQU2ScH2BhJRnp1QbVYEo3ZWyUic+GdncVGt46sbSVJPGCXMGPoSzFVWQAAADMBn+x0R/8AACxQdvOKH4J0/enO07HtcHb1JV/PW1uuUGBSk5WKpatdpTgEKS/R9aHbXmEAAAAyAZ/uakf/AAAsRVPTPbAJwlwq5cDLej85J+K53MZfawau4uzaeCGWRaTpGPxfJc5bF+EAAABiQZvzSahBbJlMCGf//p4QAABWLNrym83ccs9NHuQrn2/zTbkXqJ3TvavxZPjn4TnIs3ed3E4F4MEVbughB16wg27uqNlFP4LR/T5rvIazAaTnnDklQmTF/UDxgdQomvzXXMAAAABDQZ4RRRUsI/8AAButhOIEfS3x1zGJiutQiMi1lICR//4HYsfwAEzUmUfjUNucHN0h3VKQjf+9cTzZb2IBixv5dU+PLgAAAC4BnjB0R/8AACxeX2n53FnkHZwNlrn5iqEAKibef4DCYfmWHrc6ldcamNuyMFQRAAAAKgGeMmpH/wAALEmAfFPE9spA2FAp9TUzU6kqTFNK8Ymq7JvvE2COLPk6ggAAAHZBmjdJqEFsmUwIX//+jLAAAFbq/EWAQaP6WryaW8o8t8Ooj1zHBER2PFok31vR7IuTd7ns72JxFEN/gelRkaAG8YdYi5l9Vf0i0Pf3Z5LWB6stjEEq6+P64NqRbh+pU60xr8RF31LtzOeepCAyFMczYkV+vi6YAAAALEGeVUUVLCP/AAAbqMqUZIrJ1eyyXYEp/hQO391GObITRs8Fd5MtCLlP6umhAAAAJwGedHRH/wAALEKTVAzLjCVQGbkyp5r3Qz5rIBBUfUFNQUHG14K0/wAAADIBnnZqR/8AACxZhLQyUmQLDg6aIv4MjF9WsKtnupzn/Q/gYZjqT7DaBPPAK8KE353+oQAAACpBmnlJqEFsmUwUTH/8hAAAE95B6x/6XH3JOXW3E2vhXgsp2PgOv7cICtsAAAAiAZ6Yakf/AAAQYQXazcOxS5hsJ9cC7BlxDT7GE5efFhTpgAAAAmVliIIAD//+92ifAptaQ3qA5JXFJdtPgf+rZ3B8j+kDAAADAAADAAAVt6RlhkJ0L/JiAAAFfACyBdhEhIBSxvCoFIxn8I8gpAHD2Qwk7jTeHNwgemNuoyFI7kD6cyKMWn1HlwKEtEirOw+oJG/jTEYjZZPh6nCUzqR0A/sXDnXUh1KCnn6UGlR+UMfzmcQF8/LFT4UTyRsupydycGfORWeAyMUK6WzI/HN/8F0ZVaOgHt2K9LqtzDtqsPJx3a3wX3MN/Xx74JU4AcFAFHvlSiNs322uOW5VsNLtVJf4ymgKZ5melyud7r2zv2rcqMPdW7C0SkpKcRUCIQALCKOF1mEn/hAauiJNroKtdfx7ZbIbex3XH898wvggtK5qw/gEFw6a1rNGFt2A7U8DTsCSsn+jnvVnZXYvwJtYNLflPpgFw5LQsYHNzVIqNUH3niiDG23QEFiJskkBKRxZ+vsiC4b7rTgZZuonvhuX4GJGGjMVpFyMMo2khVUIHdyAh8UGhZFL83iLslGbo0z9Vk0eE5ZBVw+V/EKPBjBYu77hZlE1BhsK3j9G6q9QCWVayRhkcAUdM+2a6Kd9Xb6FV2aYUIL5eWQ5Yi31IDBGe2qdwXl8eD6e/yUu2qIM4kTHVQmEfaxA3f32AMRRxULzLrdsU8iG++qGEOi2omjMoXUV/abgT+h2LnhSllzVGxact6dvsdP+Wr1tPTl4Xm5ZCRJ+9TUQ2upT0liQoH9wyWQl4ydKI6wEArbP50TjQW5cJh/zOF6MWMz+EAT980DW67og4X4V89zpxwBlF3kxTuAAAAMAAAMAABbRAAAAhUGaJGxDP/6eEAAAVjTw/AB0Sc1dgOGPQqJSfeZYzYjYwVmz0SmEIhK85PZoOvtk4FBr9cHG77+Hqc/O9KUVLTxKOIcQUA9XvYK7pZH9aE+xUOt9lBOM14ZTuz/WTL8u1Mnu/HRr/uKvQTeqwCTCv+PsXtW1rAqqU5Ekoc0rcF3TfytC7NwAAABhQZ5CeIR/AAAbkK5JSigyJcCNl4cwuAvuhSHBiTZTmlGtn23xWcboLSOI5GIcXldjESKTrFPbB3EwIJ+lTXnPz09F0pj09Z4GLzpt8Y8+MIJaGHiAExfvAOqTyuMrEreygQAAACgBnmF0R/8AACxegRY+ULcroZovDKcUlCnB+nr1smjzR5KcZVBwez5hAAAAMQGeY2pH/wAALFmjVop2B1wutroaoEmQziti1vSuRlB7Q/f2Fy8TegAEznEV0V0Id+AAAABCQZpoSahBaJlMCGf//p4QAABWdHJxg2y52g0SxOBQbGAJ8MgdCS2Trc1JFPjrf031cZQviJti8Kt9512cVvLwkmfAAAAAMkGehkURLCP/AAAbrd9pKhIdGj5X3lkjizR2lPUSAPPUKj2h7115UQcFACSPEv/4kgh5AAAAIwGepXRH/wAALF6BaTMBNYXvAtOW8ZtZaPQwK6N3DmXUKx6QAAAAJAGep2pH/wAALFmjIkRIOqKYpX1HQVVke+T4aavzncHUjQCRgQAAAGFBmqxJqEFsmUwIZ//+nhAAAFZVcSL4m2giAjnS4Ztzt5G6PKhi8dZ95qsHBnLiRU6VkCkZe7rat0fUPp4Fn7/I2cRs18ROzt2ULwqfv9kfRUNLO3sJn2xAoNScheIREPCwAAAAKUGeykUVLCP/AAAboms3a44nFlCdGjXCiNUU92/RM1lDYFu9ZkyrjhbhAAAANwGe6XRH/wAALEKTTYRHJ7RG2LH+J3cIALhgGB3gOh7jKstg344KRh4/rz4uuf25qXMkqUVSUw8AAAAZAZ7rakf/AAADAlwga22caPVKZw5g6w0JGQAAAGFBmvBJqEFsmUwIZ//+nhAAAFYtBa4ArUuK6vFQXIIwYfxR0xWdS+UfLkeVZiXKEy6qUY2d4YUdEJB2VGzG6qJFslHaXksGW5ACNXUo8JuzqgRy75YNeJrD5Sn1c6Mo5UShAAAAPkGfDkUVLCP/AAAboms0jLjPt5/GJDMh4a1DQXF1IASod2gUdgOOF+HuTlmJA7Rhk4YbUBD8ImemVQh6o1lAAAAAIgGfLXRH/wAAKyLm9PQI8KnDsftkL7BGEpU0wbNl/c1sE1QAAAAgAZ8vakf/AAAQHuYHDmqOSv8LYX8kJ/Bs43CGUWJ12YEAAABtQZs0SahBbJlMCGf//p4QAABWMXoACMj7d79ImTfSSNL/PFBVPvd8e0sK2kHtk6auqh4SCMSd66ab3T63R0xA1EZ0n3AJBYvkUjXSR8jjcobNhCY9Bw8Qp8pNy9fEe61PsiNBN/xLn282SB1QqAAAACpBn1JFFSwj/wAAG6KcF90Cl1QBf9xBZ8ci5fkdmkM9nKk+LCYFvEWxIC4AAAAeAZ9xdEf/AAAsXopXukUjuVNT/2FF4e0flTD/21XnAAAAGwGfc2pH/wAAAwDhlNCGw/FWxlKn2sf2LSYJWQAAAGlBm3hJqEFsmUwIZ//+nhAAAFYtI48rAB0j3W6yRrsn74UJmZk7UO3I0ROy9vMzkt9qLg5oVp6TNkWNAgaYqakGMrHZzApXE5bZe6uCzfD6wVINuswFIMT4JYk4oLjZZ/0MftejhhcDzoEAAAAzQZ+WRRUsI/8AABuUUCV9CLzticS+3ZA0SAB+5kHSeCNLI7RPA6rPlhtzkYtd8Kl9rIakAAAANQGftXRH/wAALHMcAC1kbiBRvRdZqf26YQzfniGlBCERPknAGKCvD/yZE0PedOMLME18XCSAAAAAFgGft2pH/wAALEmAcNyj8DUqh4tALiEAAABmQZu8SahBbJlMCGf//p4QAABWWVBKAA6QEhzfdAoMo1ecDrv37s3fR5VZO5kxcLhwejkZEDvMRDEboBO5WmdfYbogDNeSsTb2FkQCQ1eXBpVN4WKN24ygICIN8IqTJ1WZ+JOKyDzkAAAASkGf2kUVLCP/AAAbgFED4lSs5UP2suYF9AAe3Xd/a7xJGR0ApzCfrwL7oJHzWEMP0/EX24Rhnda+Z1u9wDcmssMoLE/qAXc8oaqwAAAANQGf+XRH/wAALEB6q/dABXk1BwhUm6vv0RvwJeuc5qUI2N8aPr8mdRl/1/YRwGzZzyTV2cX5AAAAOAGf+2pH/wAALEmAmgzf6uJEWp42FPhBvgAuoBCMdArTbyLgvqNT94JKvegnZA301n+cOZKVr5SSAAAAWUGb4EmoQWyZTAhf//6MsAAAVwLqyg1wA5RhF/PLcQfkvbiQZdwjfmk4xWNshIOfgXqUukf4lvzQNqkKygKWBPc5Jfqxl7alJiGHa1XYdtsDJeF5cTVIpkJfAAAAQEGeHkUVLCP/AAAbrds/R3/NYfNACWHK8+CMQkdLPpzVv5XhMfq7RfHV1+e4nH/7XYirhaTIv+EyuCDkiQ6WsoEAAAAtAZ49dEf/AAAsQpNhFf07F/Egh3HcAC6AFP6NjtVM/1nn5g+X7NRlaEmnBB0wAAAAKQGeP2pH/wAALEmAcNyg4oBKlg2OeBx+9ABqM7/mlzpy/+cEb08iM15hAAAAXkGaJEmoQWyZTAhf//6MsAAAVuwZRY4Bq+pQl3vrK4uXeTNTqvRZYhx/74Ig730kP28FVca9NgBmI7y7T8LH6vY0cRkXXzBusJny2JlqSA8VETrihKpgjcph7ri67FgAAAAdQZ5CRRUsI/8AABuiazm0qCTFYYJjMgCApNg6Fs0AAAAUAZ5hdEf/AAAsQHoJ9FhHSngZtmEAAAATAZ5jakf/AAAQWOYGqE6219ADAgAAAEhBmmhJqEFsmUwIX//+jLAAAFcC6tjXNqybQTfosd8IaxBR8GgSI2vI5MqkHdGoRspMIAOY6dtO+Z1tkZrFx//F9TO7bn+vRh4AAAAqQZ6GRRUsI/8AABumc61q+UMLXXro94Dl2QLg7JIaMo4xVQoaBNjotjqtAAAAKAGepXRH/wAALELiV9VgBe4ALbPN9a7m7SfE9lZanAoe15EoK+fYYcAAAAAuAZ6nakf/AAAsSYCeQnw4y9ccGE5Tdj/KngAfuO+wn0GVk7lzYAjjUOsYdanVYQAAADVBmqtJqEFsmUwIV//+OEAAAUZ79wAL8T0p5gUhYmK5gFjZB2MjB2rjfkWiaDhNHOhoocz7gAAAABhBnslFFSwj/wAAGwmO+MklweI1zAV0B4UAAAAjAZ7qakf/AAArKfk+rwlJ84bNP70BtrtABOI7NBXW2W0p9NEAAABGQZrsSahBbJlMCF///oywAAAEoODujxu+I1HCqQwHSADajajxQPAYdSW1aGTUfAaYGbq5uWZDnaQ7JWcfuyTRr/79Pz5ygQAAAC5Bmw1J4QpSZTAhn/6eEAAAH7KX17EFRqTD45nVAh0OYP572VIklqSAyQXzWCLhAAAAmEGbMUnhDomUwIX//oywAABW6vQtOrSciAOUaA1OD3xG9jw17XvNzsSAxRpqGoFFOgHXktOhNj+0q1xmCwywIYPcGii2xBRD932V7cC3gkHIbqv64s6NglRv7oIA9ep7SrMxZdx74lAuE/8Xifyjl1D4QmO3maui12Bx6caaeKfD1RN+iqok75og9hq1lSKRJZiOSsMSr+VKAAAAOEGfT0URPCP/AAAbqNxHai9vkgBYIRqPy3/+yqPWnEf+IgCs+H5HoeY904soG1u30rkh8zxUBx6rAAAAJAGfbnRH/wAALF5faKmoQMlna/HqNxPwdOVBiDRtYIkT0yxNUQAAACIBn3BqR/8AACxZhLPcUMkCiQ11p6R30DZkkLsaBpxd0rzAAAAAJ0GbdEmoQWiZTAhn//6eEAAAH7U8xVN14cPUTzV6v4A48b619HEM+AAAAEhBn5JFESwj/wAACoSAXA03Tb/BP2LQk8yS235gA2VijeeYzfSYq5hQBOSfjxvfdw9lLNZ12TDJO/xeVsFKCHz9IpUxqmmrGL8AAAAjAZ+zakf/AAAQXOCog7FFcQey0UsDuytDGaOHLyaylp9IVJMAAABuQZu4SahBbJlMCGf//p4QAABWJ7BigA5ZWPBjC6Wl6ZJgFED+9sczExhP8OHqGtAvR4iC02vXKG6v2oBjsYEQFzlIxNEzRXN9cbphGH8O41lkxU6yE0JoknIOSNP+5yLvnPfgYjFROxIIChm6QkcAAAA0QZ/WRRUsI/8AABuphEMQALBKZI/M0z5w7l1FAJjy+RkMPmkpYuXqWvERCaf8ZmE1cMZvMAAAAC4Bn/V0R/8AACsi5yAj3j1mCbCH3cvbYALoANEbe5muYPIgiso4O0t6ZgYpki/AAAAAIwGf92pH/wAALFeo5tS/qMsPbqE+mIB/mP0HG1DmZyjGJ9XnAAAAQkGb/EmoQWyZTAhf//6MsAAAVv6nS/4Ao5pQmeJuUADWpjqHC1lNzkpf8qXZnV0YcHFfv09hnmg2iNFedbEwlrNswAAAAClBnhpFFSwj/wAAG6Z47KpACvVMjCCBgZpLZq+uWyJESmVLfjVjhYD5gAAAABQBnjl0R/8AACxCk2EQLD3WnkQDQwAAABkBnjtqR/8AACxZhLuHyR6rg2fR0DFZNu6AAAAAhkGaIEmoQWyZTAhf//6MsAAAVurg/g3gmfQDTV2bag//x4g4YU83NN18IhpSEcVJcN722C7aJ5d3dv/5GP29QodXp4sds0kM3tMTrJEX15KBrYgO0B/0gCHQucdHmxgus+B5+o6GjYtdF7AeOBoljiV7hLDxCKDu7g5HpyFONVRkFrzGInaBAAAAWUGeXkUVLCP/AAAboGmUtWWoigeVloVs+3WYXr3Isjf3KbYHJ5dpU41zvFp71LiToBUlzNylHgfU9QD1lvtL53Tnk+KX4AfCGMrEC9DJh37suoFTRcDS1P2VAAAAIwGefXRH/wAALEKTTYQrgt2FBy65cEHTdV9F1JcGAeU91MrzAAAAIgGef2pH/wAALEmAenPNjOo2LdJ55I/W7vIz6YuE0Sb7pJEAAABWQZpkSahBbJlMCF///oywAABXeZccpyyE5WgD9Av1eac9ej2TDnNx0HqJ4U6A2yKLEe7rI0kz62mMlw2w9mwQl6lqSPawSbuJrECINTE/JqoiLeUEFVAAAAApQZ6CRRUsI/8AABuphuJMueKB/V4XX0TQ+EGd12u1fC2tm/bpsPyCesEAAAAfAZ6hdEf/AAAQWCmEBXk51p4IzioUz2H7MbzIGzcm4QAAACABnqNqR/8AACxZhLPcS5Ody+Vtl4JZ3ywDAIdyxp/KSAAAADdBmqVJqEFsmUwIX//+jLAAACAHBr/Hn0DLbtAqFPlE8FCAwAFSZMVeu1idhm35BTTbkPZbY8OuAAAAZ0GayUnhClJlMCF//oywAABUquc6IA5h64ReqNHBo4h03onwVA1Pu48ddhf1X4BUDXzkfs15SQgsjekppCo1T2tLQSSHdpWpA5kc1ZNr3rjO3mpzv25zQuPJ3lf/pHyxzf9dLobW92cAAABEQZ7nRTRMI/8AABsAbK4c6HLEL3tg5lKj3rizQOtclYGEPYREqhp6QATrCNM3cqf0kTtXMvp9u2Uo/RwpswtRciwMrzAAAAAoAZ8GdEf/AAArIucJq7zFYgRxO50yCUIOSMMS0EQBzqy8ORtWe+wFuQAAADYBnwhqR/8AACs5nU4ds0Wt+NKYlDz86hFOP0zU00durT2xQCt3YxHLTQAeLBa/IeCYMWbOsoAAAAA/QZsKSahBaJlMCGf//p4QAAAfA8AOHB7vOskQ3QdnzmtDWC+P9WiTQdhAA/BB1ebuoAfLF+qhS2VarA96LWNvAAAAUEGbLknhClJlMCF//oywAABUquc6IArfqUeI9ze7Xt9TMjiPGXMutw4/R5C5L6aQiv4YxWyebMpPr9vA4Q+bl+o5uEwsaoIVlx3IDn8ybmOBAAAAQUGfTEU0TCP/AAAbCNSRNXBh/8CydcBJbPAWfDBz4du5DQ9nSdz4zJfSYh/RACWp/Vp4EOTUek8CSoLUkAhCojeZAAAAJQGfa3RH/wAAKz6D+HeEewXta1wMLVnfuyBRkSwDV77/2pm1eYEAAAAtAZ9takf/AAArOaOS2io4F0J/KWeGw6rlKFIucymcZ85HgPQv3mxJM3+fK9lAAAAAUUGbckmoQWiZTAhf//6MsAAAVQ7dZIgCt+jKzhi3WPWQkjgUe5x5a1lAltvLk/Y5YDumISMmVBrO53XapeE2sOXqw7fZypbwh3+eTXZcbjbwVAAAAEZBn5BFESwj/wAAGxh1gBbquzW9EMcV1ucfABdDqlektvVQhFREX5mgPx0vsVkttuCBIM78fl0ym9kt6+2vVlEA360gmHrLAAAALwGfr3RH/wAAKxpYTr5Pi+gpDrD38ZBrWPpTDSp8ne+9aHEcXtwCEvy/q0SIrXmAAAAALwGfsWpH/wAAK0NuZHV7OHAd5lYyBClKuZqLlIG6vQsHouc2VH2SRLLGMIXnUdq/AAAAUUGbtEmoQWyZTBRMM//+nhAAAFPtAtKC/GBB/9/jOIaavainXX+xVfPgdQmcyYXTp/70a4gACvUnAqq2jVM3YIoWvzg9O5mmsNyNGKkM3WfoBQAAAEgBn9NqR/8AACsp7cVfYAJajVx7uL6AEZXmO+TEHz6dKwzJAH7A+PYFi/GKmJbxctflReSB0ir9aSjgIFgn+VT2aw1IsyvzWUEAAACMQZvYSeEKUmUwIZ/+nhAAAFQpxGvh44Arfpgo1pxs6wpnuvlB2nkD+wvPcHc4+UjsUuXPW/Kx8vdWuDNAeLGxfyGemWDZ7mOxNPANZzrUjmkDinP0fASlyx0v6iRAWojy9AZWLZVDp/Q4Xo1pMCf4UkTujDDToa7fHTfotjHma+O2H3vrzPRJNdoW6JEAAABWQZ/2RTRMI/8AABqzRmD5OfcbNB66Nv7ssPwk9xbifOaYxvW7B8+mNZBQFN5+8EAPCrrYWd7ZMmHnKyvrMtfb6J/505xJJf9bWFpODSsfLHqcAQfy8ZYAAABAAZ4VdEf/AAArVuKADjFOettY1VkPj3HSd1/ozbWxGGJ3xjv0NHbBaBTD06FMfxwe7TM+Lc8IcRujpZEO4EbnagAAADoBnhdqR/8AACs5hLJKdQEybzthraEFN/aQbCwAXEwl0fOuUT9Yb4bB//717DC9GrK17uHoIEYbzpdtAAAA0EGaHEmoQWiZTAhn//6eEAAAVE78+hwDUSLLSMB5dNhR5HYrC01fju5VGCfMUzimYsOPlXm6d+J3zsZD98KNlq+QFnVP8XVkWpBz7DZ2xY4blw5giWNZPqU1Lm7LwD5gI87dJPrLlKQXJrg04dzrBZ6+9LMRw4RsfIaX98/iLH/08vj6hKp/jx6kWwhMdSdT2LHrX+R+C11Yecxy/F1jKFfPPacM5yU+TsaYY17PEOxg6KZy8LNfOOtE4GEP/A5whZ9rcLKrkT/PL03KFhSjm6oAAAA6QZ46RREsI/8AABsAbAOd0yVJ5I1lEY3vgckaaW4HJuZh6DTfgFcc/zuHlLAGNcGzKZzYodabno1OEAAAADUBnll0R/8AAA/UCu4u3wDfBNquwukuJ5gJaiQdn5EZC3aJcFm5QAg6oPudf84pkHO6fkJ/gQAAAEEBnltqR/8AACsIO6kr1pRJEo37HjgBoOEpWgA13KJ/3AouDCrSeYAWoOPo3jzitl1sKWjYPSucSQkE1ezz8Omv4AAAAIhBmkBJqEFsmUwIZ//+nhAAAFPtAbWHIYoB+g8/nPsHgU8SayMsTf+V631RFBs0BopCrlsM1gi+HAycaCLJkN/htzZBQfqj9KkHbNWT1ZDJXi4il518g7KusCNcp7lkG0mmabFdbd0LdJ/6XEOSs2nLggdG0vVcU6oyuWV1K+5kKgopEt3H5oeBAAAASUGefkUVLCP/AAAbAoMsAsM8z/ER8CDt8MDmtuqGw6uw083n9uiV2ufYYly8Ej8VJqAEllkSiQD7Zl4cki9uDApZqC4M+l+rpbEAAAAzAZ6ddEf/AAArPjUYUII3kAGr1kjw4qhx93QYG3Wd0UGaNvoE0BELhWu4YBA/l1za4r+AAAAARgGen2pH/wAAD+UGXVUqE7/x/v7oIuiU/fDvHXQ3z9LEPErVaSbzH0NA7maxdnArzZDcmUDRQAdldc63WANPm964t3i76lsAAAB+QZqESahBbJlMCGf//p4QAABUAWt+gAUAxqk9tjK1E5vizx3iadBIr4ap+GKIkPetp2dXKqX6ZBcQFylmaupwyDSZpPDf2aUjpGPVt9mkQ7e/vksDJ+V/M8WnGXLV8dLf5+pz5femXK9tR7VfMprAFm3ojh3AKQ1R9ayCZfX0AAAAXkGeokUVLCP/AAAbAGwDpCh58gANIFtrD1+Wct8vZtI72TrIh3MrmlChqD9zo64DF1Ac0GM2uaH99H55EmUXdXiQEHYrAJOvcpysTfef3svfaMTCORljEb8vspwV2XEAAABNAZ7BdEf/AAArPoKokya445Ah9OilJobW9ay6YgwZ6ZCfsp5a1p06BmOpkeH90uQAfnCTAynbgihaK296xgxoovek2sL394wY3g/R+y8AAAAwAZ7Dakf/AAAP5+52vDhen6tfKLGRsZnxpf8iYjZ/ldvERvCJyEfRpxacWxDBwtWUAAAAVUGayEmoQWyZTAhn//6eEAAAVAFDd0ADZIFXY7H/QPacj5Z/YHCCi8r8nd8gR9oTl9iZpajEfHsXsP/n0UYlQxrcqt84iqbYWDiEydml4IdxFU+QdggAAABCQZ7mRRUsI/8AABsHqXUZA61KXAlSDLCXD56FGQmsB0Mz2qXETAC52cCfDAPu4RxnXfAL+500IKweOEWvofupAPx5AAAALQGfBXRH/wAAD9FOaDjQSYH3GMUrBY5d8j0h3PwlXEWv4e093ZSUgjmsf72FxAAAACMBnwdqR/8AACs5hLQ07RRbwwWfBmCHCJCBFZWQmfl0HPRKaQAAAI5BmwxJqEFsmUwIZ//+nhAAAFPlooAGyP9VjPqKJfzdJzgVRnVVi1GAWns/vq1llBxrjCqYz0jsUrJbMPeGAfe7KaqCv5qocvqXIt6KqN3FBGuB9slFWy4hK28V3Wqq12ac1Vbw1S/wIvhntfAzx8GiWFmPRPlPCjGiX63XfDTT0syXY8EbPkRcfx/rmp7AAAAAO0GfKkUVLCP/AAAbApcwyXNMZNMp67VTpj2ndOQij08OUo+vkNJ5vAAuKzPI8ohExzd2oDSAqavc5GqBAAAAOgGfSXRH/wAAKyLcR2o6icSCICTpIGnpnwltnXCpgdm60BzWcgA/m5F8UxlBLQ4i2PDULvoToOd/C2EAAAAkAZ9Lakf/AAAP5Rrck3km7I8TPZO+uC9ml+/nMdubnVOxJjphAAAAY0GbUEmoQWyZTAhn//6eEAAAUbKtcAX+3asu0GjM//jqv3c9aCcU6viG1wqZCrUDN54GB4JVTDgXZE217w1THMGQDfKtRmeIfoHQA4ppsGVIvxReycN11zWyYyezx2hYgu4Q2wAAAERBn25FFSwj/wAAGmKfQJe00iEX9gV+TX+vKYhTmNpNa8AA46cIdEguigNwsEgzI8qS8YsJmSCRCqFOSPYFaL4t4Ne7gAAAAEIBn410R/8AACoXHCrI4vSzk/aVutHtVw/KJ99HYNCE80Pz22mTv7zw9uUAJphpOOHdalpNq4iW6MlYqVzOW44e44AAAABDAZ+Pakf/AAAqNuKAEY8rPc/PwTQEdZMkyNYeX+uix7zyfDP/LN9omBq+tWn/hfUeWtVB+tuGQqWOzvIkDH++ZQn04QAAAGtBm5RJqEFsmUwIZ//+nhAAAFQZTug5dXYANMXnOTVuWcGCEjav0v9jxOc2DNgGulLfulVRpxCApZoZQEBLR9nUPzDXg29HjgTMD2IhmyWVUb9zZTcZvfkhxDWNuXgCwzD89hd1n1blp4+QgAAAAE9Bn7JFFSwj/wAAGwl5fEW6EVVkVCHzpLK6I8Q/XBU/L2LxbTw8qYi+BRToSpYwD1Alt2pNvEdBPWAAD34r6Y2xKTqnfW5Am5/GZeGNOMeAAAAAIwGf0XRH/wAAKhC4EK0pZd+QpIaO4JF2/yFd9AcMz4OIH3ehAAAANgGf02pH/wAAKhmuSEJMalwj3oXTfaw7QIpdDpeU9kkG7UNJJ6TBZ42jMt/L9vh/xPeyXNkZYQAAAHtBm9hJqEFsmUwIZ//+nhAAAFQZGWG6RRgEXCAgZdu8v9M/ainiQADYFjv6kprh+CO0jon0Ml8vaj2fhLq/Zpus6NbSEEyCJzToSWoscZjHnOhfdPslJsKUGoQDhv0szJqQtqpZvE622UgBWojsqGd3fWTw0K8evbfe1oEAAAA1QZ/2RRUsI/8AABsAiBcq40wnkjZnnvOBajMGmiJKXotVYBhY8bpjwXHZd71QuoXRzuBxdbQAAAA4AZ4VdEf/AAArPlGgVU9o5BZmvzrq5Wjkyr9NYx00wrOK7YowZlltoBV9LUgwAJlEvoNmuo5+GMEAAAAzAZ4Xakf/AAArKaNkeWdxG5dHPQrerwXTwHwwBA9VWJsEOjB8n01bfWAenBpnJZOZ2LX9AAAAfEGaHEmoQWyZTAhn//6eEAAAVE6kp6G3k8zaXJugA+eZc87o9yL3P+ChqpcQSRHaxZmQi1vNvF15UgmyvOsfHTNwiNbtgCNi967UUGsi5LbCB4cIc9fwya2bpHLf/v/aRv+2KpkiO3jnTOs4lKa7hOEx58Yeoz7e4OXu+0AAAABKQZ46RRUsI/8AABsIm2YDBncni6QyC0ZprH3B1Q4EnKdTJQ5pIe3e7JkwfAEMsLtYJAA+/ff1QApQdU8/5rpZf6tDOiMrO2xfWoAAAAAsAZ5ZdEf/AAArO1cmJww75tVCx94x4HRFJO+QgBAx2bOmJstj7zQrKEKelDEAAAA6AZ5bakf/AAAqmr+JMAN1pdnH0ZojXhTP2sElE/b7f/boOrn2sOdctchOKLrk+PDI0BAnBjyrIyzutQAAAHpBmkBJqEFsmUwIZ//+nhAAAFQUvZ/vkARDz/JuDxW1w766xwyjZa4LT5/lwZzSUTj+EUpobXt0aFt48gM4l83MNgSbOcQIoq7RAoDl6gEd3Oydl1DZmHlF6DIxvp5wqdeeBfBqyCfveheRxRJOPqWu0Yd35mdzjD8cgQAAAFFBnn5FFSwj/wAAG1+6zf8HkUAXu7bDHsMAsAD6BAT2Ew8eo6IDY5dJN3NiPTmXLeZWYup3jbp8G6F4UQALc1fxk/V97/aSFzXp4AELVj1UV/EAAAA9AZ6ddEf/AAAsQzByd7xneaVkloN3Qw5ctgmxkmpblt6N6tGNfWWgWXFV99vSxzvfwTz4CL9UGmqE7Rm/gAAAAD0Bnp9qR/8AACxZbjd7anuoFosps0Fogycsth60cK9xa3B8XRb316EoZBXeGSZ5IAEuaFwqigbyVpC/63W1AAAAZEGahEmoQWyZTAhn//6eEAAAU+sKsu0/j3RDOWMiCA3ZK8+VIsEaekcZGcURGIy7K46VNzngxkjd7ivsFizvA1juCPTgjYhRvz5sjS1Ih/Etkis5xIn8Lrf103ribDYelRBsv+gAAABRQZ6iRRUsI/8AABut2+qnOAEWn6Al3+VlqzhzYZ9j3AlYXubQOvOr9eXBM64+E6dHjaZ8DOvzQT6tM+cBanzzBIeFRTkP4RqfkWYRAx0WUb+BAAAAMgGewXRH/wAALEKOtbtRSB6CEW/LTExfCwV6hg1irxVxiVlA1Q6ac1Jlt4IZChOpQa2hAAAANwGew2pH/wAALFluNuA2XjBKLV5rWikazYd+7ntNZDEX+uXqSdHBITtMxaAADPmOGRSOmcVzW0AAAABeQZrISahBbJlMCF///oywAABXArplqKKjAHH46Q6Olsu404lKIluEoonriURyY7cvZsMZFIjaV0aUOHGgEaio683sxuygr0LYPOF6DgP5Bm7OipUZzcRsxlh0JcJUPQAAAE1BnuZFFSwj/wAAG5/sHqESn6Pl+SSMyABIh4AcZ5/nCpRhl6JtN/qDMLPPPkkP/IkXqrbGQSA9ZEzpQMWr5k/WGOegic9Cvizm6FlwQQAAAEwBnwV0R/8AACxCdqq7FQ4TACx2aDxQM+6O4kuU2gfsrvh0KIe7a4oMrTYLD7wkx5DJxIHJd3v10v0wbOjfgwl3ZFvD8sJMtyji4y0wAAAANQGfB2pH/wAALEVSw9JV8/H2K/DSACMhD/x1530Z6iha1njCIBeZTUdvBAcQlQ1ARmLXD9rzAAAAZEGbDEmoQWyZTAhf//6MsAAAVwK6cwYAdI9bYPz9HZqd0nsO5Rb+nOBrPg7LU/gZAjU9/NNt2kWFny7vHqfosbBly3ZtCiiIpsGMvwzAmSNlxuKYiGFVOtr058Q5C2nDu8JhauUAAAAyQZ8qRRUsI/8AABuf9sdGoaaoAiQJOI/v/SGrZE4PY7m8eD7UokTnkys00teZRodVOq0AAAAgAZ9JdEf/AAAsXkliSIwggy/3IMtCJIWZo4LrOkWOL8EAAAAoAZ9Lakf/AAAsRX8MYJvRvkBGhClp3ebuD16YgT1rvEAJpbIQzvK8wQAAAF9Bm1BJqEFsmUwIX//+jLAAAFdmJmcQIAp/56ASHRCVOq+VAZlR7phPL/V2+SewBsjoZ6jWAj8ETFp06OpNQOyxdMo1R6jNGXPsCunZzE7vYRegk2U+Dia5R+l/NC1/lQAAADNBn25FFSwj/wAAG4PFevLlQp06e5YLKdS3faqHQHftYRZZVi4ACv0RgEZ9ebC5TbN4lQYAAAAnAZ+NdEf/AAAsW1axc48jOdKOVD9C0dApxkhQ52UCrXoQfN+9iLrKAAAAIgGfj2pH/wAALGME4uqFnLvBq6xP5gzOCzE0kjB7sGKumHEAAAA2QZuRSahBbJlMCGf//p4QAABWLNu/K3k6/zbdv8S9ZC9f4KOltLBzRLMAFgwWbJxd1wCbK3EIAAAAUUGbtUnhClJlMCGf/p4QAABY+Zc6zXAhOMZqAV0VKp9eIrYv6yH/SmBZ35BtJIGlTALsF5jUYUYtBgtzbeiVjQoGlK0X8agxx2jE0N1/sh8m+AAAAC1Bn9NFNEwj/wAAG5/sjbUmaXM/xZcemdP3ZX8nyCc30CZAd7dlRzMoTMD2mkkAAAAuAZ/ydEf/AAAsQFmXEBmrc37KmKG8VWeAFuAGiPFk8KWFFhaRjz6bt1nfMbDRZQAAACABn/RqR/8AACxFVeHzp4TiDHz2wfBI5BTrJzw1HJDrYQAAAGVBm/lJqEFomUwIZ//+nhAAAFhrX8EJbmPaAESoeRlYBShl58CY3siYI8k0hVGNcADGcR9keO2bWrqdzsSdN2mUzQ/V9GobwjLBWwZnLsKjmDNUqrgL6R71Hjnp8De/+6fiDIDZ2AAAAEFBnhdFESwj/wAAHFhrsMtby+UpwAEZFxqNr25IXmn1zYh8QyrBytvg9YyyTiYuSHX46GJC2LT5uNtHOfKXgwbT5AAAACgBnjZ0R/8AACxAWcxxV0uWdX5+44Q6BHGlHY36sB9BD9e7ZV0BRm6RAAAANgGeOGpH/wAALYME7MJfzWMpo0AJZS7MrxCrSQS1JeRAp0/1X3MQFrjwbHYEkSXnnfKx1TevQAAAAHhBmj1JqEFsmUwIZ//+nhAAAFhrWRjgDmA8Lzp8SR50mABE22XpLmyC7D3EX+IcwFtuqJqGmkX5mneVE19fw/+mKA24ZL9w0/5FVAvkusn1b2SH19UeGbITRaVamkHpAoYcSkGN1akiV0QbO+HhHkH8n3hsMN5h54YAAAAoQZ5bRRUsI/8AABxNBVS0PNPBjM52iVAjvEhhyfz0CXMFIh59w6R/VwAAACIBnnp0R/8AAC1gWDUAdQRuE6PDZGgT2vclRGjHtz9XClbAAAAALgGefGpH/wAALWVT0zx6hlSTYDSJEAMiMs0Y3mAAgSablp6aGJs10GmjmFuI6hEAAABmQZphSahBbJlMCGf//p4QAABYa1ewyII4/zT18Ek+oReW8X3iYEk8tP40BUzJtLlTwxMZHCWFL2gx/nztJx8b6gguLb0tDg62F3CESPrOWzM0nalslP/biql53jekvxhDDNGuNFXPAAAAQEGen0UVLCP/AAAcTQVUtDzTwYzOn21n0lJCQIWFGVmRXfGIAbs6+34CYZekSTi3E/T4TzVH9l8CT1og68503SAAAAAlAZ6+dEf/AAAte1cmKFbJq7JPs6BmLc6d7S70EAnX2G77wbFdIQAAACoBnqBqR/8AAC1lVBAeDAQ+Ulk715YO7q6ylRvOCq+KPP0TeuMmJyY3UIAAAABjQZqlSahBbJlMCGf//p4QAABYa1eyiGeOfnz1ngAff/Xp4D/nznIAATRCnwUz1ife0mXaP3xLRy6Q0MAEvnzodpfK2ifwWdgOU31CnptTJzR98Dk80emWXG0xmlLwGBpzNBGPAAAAPUGew0UVLCP/AAAcTQYQeCl1Z4QT4U7jmMyvnlOVdWDyEU0FWC2/B2HAPnQzhSIaL69J+gjS2hxh8AZJdQkAAAAxAZ7idEf/AAAte1gKInwmuUx64kM7MBY2bGvN0yhxAAnDPyzWaQBmYRVuk5TKNabVsAAAADcBnuRqR/8AAC1lVeHzp4XUOzxK5fyyPe9HaMab1DHEsMgAnbtIeDgyFXuThl3SS8VqMayljItQAAAAZ0Ga6UmoQWyZTAhf//6MsAAAW86SzlZYRgDk2TsdrZeMFNGKbNGGyzHZA9oG8++WtLH1nlMbppNCsPaylkPiSeHdtxz+N5XEO7dNLH1eq5a2t4g+ifhTnQTZ3QXFpv2C/5JvjFVLk4UAAAA7QZ8HRRUsI/8AABz9BVOEwEfwfL5V0QvBTgCHiSSiImJga+Rn214StbDpERBgxfpSFtJvUrfPJo1lVsAAAAA2AZ8mdEf/AAAunjThg4YXtn/mXP1uqcB4SrYenIASxTb5qQGpzYJA90WF8t6yP+opM8FjAK2BAAAALAGfKGpH/wAALpeohZN+bMIAeAfTJXcA769VKwiU8k7p8KT3+1lwT8dRVuLgAAAAgkGbLUmoQWyZTAhf//6MsAAAW9WANsVxAI0fnKZITY/SIldKOPUD2eHGczehyI/hslLD+9g50mN+q/Xk4EWpirWmNmwhTI9DlediHC/2LGwNNOjPcf6zP0OYqSJZ8MMmFDJ8VjPSPQ7XgKVcWq898WyWW7d/6+NTMZMQ+uE+uPiVFeEAAAA6QZ9LRRUsI/8AAB0NTdkih1qpR/3pkY+MQwyFtNazYJr0/IAE6wgPT2cZ3PEljPhVH/hCxWxEXoSf4QAAAC8Bn2p0R/8AAC6AWDUAdQRuE6OQFxGn2HAAEtU6q6YXWJrmKAKRd011l++Hm1PGgQAAACQBn2xqR/8AAC6XqObUj3inBO5G9yBk0Ychr/+5GV3uI5cOqYEAAAB0QZtvSahBbJlMFEwz//6eEAAAWtja3uAM3qARUB1y/Ae1UoRBVq7bYKjwy78tiMzbbGegF4fDIrEODg7JKJIHTEDEJvuLhIdERhv/kKePkqoF/CezhEpb+Ry98mANS8r8ef7Le/Fy18w+A8pCF/OBx6J30/gAAAA8AZ+Oakf/AAAuc8dGHRkjRoECISaY30wgzAcwiy9rcALWfRNJ6X0XYL+LEEqnoZ7pL1tPC9IP9N7MVNugAAAAikGbk0nhClJlMCGf/p4QAABaq1etyt5UdmCeDOJAj2P+nFb7sRB6JBQfsOsivGigGufPRgKzTsUf0MBy4lLgH/LN7bzaZNh7fRYQb8DA34x6gLXQG8HTPi/3qH3Eom/A54SjKgszfqCN/r2lavsMMxpBksJVE/GnxRLmSzWjLUxw9A1ELaH5u9uB4QAAAEJBn7FFNEwj/wAAHP0FoK3Q1O8aNbiEREhsvnjZKXXIiCtN4K6AB78UgSi6BWOEpo7UDJ6bcq8JSw2uSGSnHWjH034AAABAAZ/QdEf/AAAum1Y402UJAa2aEPo/vR7iif/73S7NnePOXohfyUZ0HQ+oK+vQ1jCcYxRyrCkRLoVR/NeYwZck4AAAADsBn9JqR/8AAC6FVeHzenvebFdEeNfmlC7JoI0KW/iZTEzkCgwhLnTOZld9AFb6F61VTHcwTHXgCSET4QAAAHpBm9dJqEFomUwIX//+jLAAAFtpk9ZwAsFCIopceBC9eMf46Xd9lQ8J+1YQa5YEzBfI170zT5iNZdzK4uItLjMfcMjizYDAoW6kI/8yKhtm94WlV7AtYj/xKy+ezGYqXFZ6YL27Mq215BLay2UmVvsqpVm7+GyqiTG7QQAAAFFBn/VFESwj/wAAHbiBguX22H79tC5Bz3PO7AisAA2+83txMRl7HE99moYXB+nkfcAG4eu/EJQN4kpyCzVY5Onok0ob/6mMu+hwdxQTwLlPRoEAAAA9AZ4UdEf/AAAum1f7TT3HLxBpcLDJDgM1tm25Fi3yF4ZR2MAEQdCoCDwCA6/dJoVji/GDUWUHhscAcBpakgAAADQBnhZqR/8AAC/SUiFx/8IZFa3ANI/CWurQrbmONjJSNhxzEn0zMsSNXrJcN7HatEy1bqSAAAAAlkGaG0moQWyZTAhf//6MsAAAXamSG4CI6JqDM9LnE8oKKbtMbRRdKUqjHRHtVop27eMaT4KDjmRklJ0dilXiiYpRJ7BogAaUdyFszrqo7y7JmDoDmMqYQHmGouWcgb/vzx7vwPdMGuSxg1VCaSFUUxNdoSknJK+6KLnjv4IdT/2ZyNf54wUWWmB2x3Ws7RLefwdhtIOBQQAAAEZBnjlFFSwj/wAAHa20K9/DCpl4xYyXRZZuitgwHzK+I+NkJiUQPKFUZ7Je3BkG0aMt0DgYlGtl9xUAMufwJq164w1FE9SQAAAAPwGeWHRH/wAALzrlhPzcQZcTUFWDjuaWpGwMQiJvcXESpWctNAENgPhG2OmgATn4gVh9O6OYRxxJ8f+Va/upIAAAAD0BnlpqR/8AAC/RyhBir1IG8gTHYMUKwHxH12/zTwdYOXnfFjINRvyFAPWd9r8AACZXqfAbhCuIubgI42mBAAAAfUGaXUmoQWyZTBRMM//+nhAAAFzs908gGr67ndy3mz9TKhLg9W9izNYZnur9jbTqzu/cMGDB4r87/ZZsdPS8lqIm0i/blEG2CuCG8mCzfJMPsqQHcQhlbb1ieMKDn425jpNCLceXGE7+urMgItnXAqv/bubFcySq+I8Ab7OgAAAASwGefGpH/wAAL9A26A3ixroZ+NvoMBRykVaiadmbW4S7k24o6102/v0N1ZutNqzqqgmaF8AE1B4StwwbA3FgLqV74rWX9mlZN2Y6hQAAALtBmmFJ4QpSZTAhn/6eEAAAXOza99qu0AI5RPcisvjRyd+7njIihBW+SHVEU0OGC6bMadFgryGcNh49SH+88AoaTXF2HQAeFlUUqLfIJ5bWvJ4BVynCtWIq8Uu10pX1hJPczwTx9zJzMNmHjZ3w8+4IesgbaVBie+8M9fvNUZjdqTv4a7pJ7Zn7NE/6Ql0eE+61gkstB7csxMCftMgiIiG0KFb8y+5wtvRZjyz80w2z9dUL6Wl2pHoDemTxAAAAZkGen0U0TCP/AAAdxveAK24+5LJtdSLKZojYRG5dAwIEgxyMjaQ20cZYPEJa7eQ07i8Nkwm5umpKx5Kb+6uLxFJtB8RemO0bvDVQ3qPsgzO7oiep/0AOtC4uwb6kNo4gXl5Z5A6ggAAAAEYBnr50R/8AAC6UPDJkIQF5PRpyvKIiuRS5BCqJ9OlGD55SUCBWCi2pSM1E+Eui6KkroTlV+TTWNzKHETyYMIgtav086foNAAAAPwGeoGpH/wAAL76l8g33IlIJvfxGgXLRdXSQxnjvsPyDAPlsbUa4mvRU4Pmwubt/laay8wLdq1srPZNUklC6DAAAALZBmqVJqEFomUwIZ//+nhAAAFz8Oee8gE166V0/vM5p9zVVvE6JG0uhApHvr7AsB+UtyXu1WDTQZrbos7fCzM5MV1lvGTL3ibQP/AxD12Kci+5t6ynUqDCZbkgjBT42NmIvPRNMAxWy1P0Tt8rwRpKXJfM8DN62CL/6ndyIrskYYD2gRAbpZcEMi24UxhmwN/xmKtlBSClXudU3APYw2TCKxAnW2Ci/LlLEracKPfuzTepGG+gogQAAAF1BnsNFESwj/wAAHbTBl4AiWRBbQ1VJzUKz2Y/r7/8pExdXTJ0nQmjq6Aj1ByrC1r206BESl/00C4YlG6U6ZW3FeRZhsR9smf7hYzlhuYwrDLvrRpRDMm6CcAtpJscAAAA1AZ7idEf/AAAv1zTk3ztvqxMBa70w9Y338Sl6PjW+JWFZPE6ePt/AC7twLLLRZSz98VyZtQQAAABBAZ7kakf/AAAvvqXve9T3a2rgpj0mHkV5c8ftTgCqa4YCpL58Gnz6JvXxi5TszEob4IAIcr6JOmUSBW1gwycPoMAAAABmQZrpSahBbJlMCGf//p4QAABdAYeQZeOv79Gf8nwBEht+1wkLfHDx7Bl+97/E5mmCHYgYG1Xb2RFiPW++vaGx3d+g8443A//EeXHHSSwg8AoUKpSdp7AiAJTTu8MsB7PAyv5VkFW3AAAAP0GfB0UVLCP/AAAdpxX6WFuKAP8yD143OihBNuV93a/fHl+HPuMfQoMaRCLOgAfniWRf5kEGdm2ohm8x9VTVjgAAACoBnyZ0R/8AAC/IVDqIQJNnItu3LybAVy/dU3PpNQnltkJEEgCiwkwilQUAAAAeAZ8oakf/AAAvv1JILQOepKHLujvnKzoftfcq7hlYAAAAk0GbLUmoQWyZTAhf//6MsAAAXawbozADowbbVPJSi/Hi14WS9MUq15EMAs+w0yzCSPv5z+V6FVfwM41VoJ06xy7/9GtjnwC3y0LNyE8DKNe6W7b35h75s8iAkHTooC09FMvLNFQLDgKkoTj28VaRXuup32FeuqzZoEhRxCOhF4V4zg2yBMpEQ6p2OC03Lf7ZT8DlYQAAAEZBn0tFFSwj/wAAHbqtDVrkjfb8DXohrQ+aM305sqE9FjB4Ny/UVElmYf3FNiQ4vkj7v0nRgAjItOdVJDEINHbqzMW/3dBhAAAALgGfanRH/wAAL9d0th6M4a8mMFXOiMuRLkqB6aSgqSJDQxnUZEoFzTVTr/S0rUEAAAAzAZ9sakf/AAAvzR4bsSZkqJcnUgpIyYha0ghlp6LeOxS/Youkog4b41aCZ4E3lpVwW3QZAAAAlkGbcUmoQWyZTAhf//6MsAAAXcKkZ/jgDl2OIbC8ntwyckfL3jCaTdw9AvzuCbfchwMbc7n9KKwB5z9aETwAUTVnVH3JI1CxFpX7LpuWw/7ZmImBFNTTB2zPYP8ZIkF3b6SZ+DTCP5LGkkgXj1lOtdM7scjpx3KGot2i0DG5cDRjSk6K7w/URvA+fB5z4E/SunaJAJ7xIAAAAFpBn49FFSwj/wAAHbs6cb6BoQ4gFNNwzPY0CNe+BnRmMUYNUuB14R+JwsDbZIbQZNHT1nrmy0QghYkkKkOrNluYAEYzHbJE6q2IOzKxFWJWyAEjMRUisORVCscAAABDAZ+udEf/AAAvuEw6eqDIoLpqJYQrw0/Gc6YdXv7sMBqVtB9Ny9mkUXfElUGOh1HSwe+AAH4UIuYSY4tjAwO97qzoMQAAADgBn7BqR/8AAC/QUj2gKOlzQI7QNd+K+FDUexuffQ93vveGPAsdZj7WtNbMwPDi+CZeQG0aUusNQQAAAIVBm7NJqEFsmUwUTDP//p4QAABc++5cOy4rQAj3Ws40jxowBDZ7csmpIld3ZdC8TsDAvJEUoqXB+b2moJfe/b8EfL0TnsAy84ZDRetP2dMngN8N2MltMBfGiRb77LCBp+dN6o9uoGiUKl4x0NteiHsBbHyUdYHh0O21OT5TdaVgBS4JAR8eAAAAQgGf0mpH/wAAL759vseEUWopyMesgeriRnFE0ZlQAxHh/R/wdvduP+F/Wl2WscU37+iGlWPih9bMmcYS3ULsQ6m1BQAAAJlBm9dJ4QpSZTAhf/6MsAAAXjmXHlgPkwA4sE7AwA3Q1BD7PTt/eP3/32E8l6kXK7MIUcBzFa5/I+9g96A7SAKCijTO436ALpSQwZuSj+wbTheYJ/F1DhZodarrGgNFuli+//M1bhOwX41tQmxXJRAVYvT3ZYx6a/TV/LuNfQecrQW23BufDGhRf9v0mmbRWUV6k4+8aRysCJEAAABYQZ/1RTRMI/8AAB2tr4lEYushEihokWHCzLuyCr0h5C96WjaBtvwAcUGKOVtzYJRf0U0xqQNkTvZm2qsdxrDnIJ2LyTzYuk+iAO5jeabBK5H842ESuc0heQAAAEEBnhR0R/8AAC/G77OSIUTVdF6sYRAWoR/qBQamqKXuqY8Qun91Dl68lbYTH0bb/7zMvLPYlB+UuHp7Vyhg+Sbv4AAAAD8BnhZqR/8AAC865FwUDpMhfCPqPM19Ki/z73ykfWfUG2pGC6Dj+WbIKsr8pQ/GIJMnhJuwzG/E4NYYXty86SAAAAB7QZobSahBaJlMCF///oywAABbtuE/Ktcz6AIlSqVqPO5+uedFHORrsRiT+b5jSRq7XAqi1gZZYTvT4oPnA3akxt7HDjKJgGyxY+VtOlAvogEydkkkzUHL0csxawLjwrdDdEL5OxnATnuSr+uZvMRy9LqCJ9MUD5lxT2+BAAAAVEGeOUURLCP/AAAc/PYlNepJlTQSlAn9paoTTbbnklCQSW7fJwf3bqaAJ7HwkFsm8PVM7tyrIDr9SQ+bDcjdWusxa0zV1NvHsCyjP9qmpxWTIcCWoAAAAEsBnlh0R/8AAC55AiusODkjPainD7/8IVnM41JdtxXlQaD73unHyAv3yIfoYtFDBdVGJAx2JACUHYNmLSBBRhbyMBYdlo8DQ1ZLpIAAAAA0AZ5aakf/AAAuhSA40HFNjZf5ojgToyPgNEnmh9ZkwAC7avqohggkWS3TQt2q+3cHeUGhPwAAAGBBml1JqEFsmUwUTDP//p4QAABa6Xc6WekCDtnTZI3Ge23AlCxQ06dR5jWZY34WmFNprktfDsCOLerN15PQ41Z3aKa4wrD28YIKQueWXwGVL8FMl0+S0tBmI2jZZ6i6hCQAAAAyAZ58akf/AAAuhSA5Aak9bXOiKsUVGS5xgFWh8LU+8iSCnvLllO+kjuiMhXalVdofO/EAAACPQZphSeEKUmUwIZ/+nhAAAFrIFMZhwBW/VuNdpHAYQ9mqkfa6Mze7vjV0XiKdPHywHpq2yOwkfwZeob4t8pObSl4ahHAxf425o/zwKjSQdmRO3L4AOZYXSaubgRHYOl99ycXp4+v5K6k4zLVVjGGwxtKS8VitJdD3AA8ZGISKXJhvHTC5/0T+YnVvibHBvMEAAABCQZ6fRTRMI/8AAB1nnu+UxSAI7RCEo6BoxmFOx44Z+yD+INDCKnkdQTDoKXmh6TqZdzjLBn3ktkYGMrsZl1FTKg3AAAAANwGevnRH/wAAL7ffkImdoiFmIgx1HcJbeT3nTEB+ZgAF1AIW+14ljnp3l42WcWrNXOzvyhUPRU0AAAA1AZ6gakf/AAAv0lGc5RMI/6Vu8jM7j78dzXHMOlKuwFb7lwAJ1KhR0wKzN5U7aajw4fT/MoIAAACmQZqlSahBaJlMCF///oywAABbXgzp17D9wo6wDV1Jp0hU/mMnCh7Eo6NDiZoNMdL9SF3igxC60Xn/XEk2mwJIZDXjOpMGdR6+44PJST42DFtzNwwm2lqdFTyRobkTDCu7jcRjfYN3n5QXmfVEvLmj8cWGdAzl/GNAnog3OiRtHH6VRTpikJcF+dKtY+eRK/3CeQxJI1B2alQMAgbhKwCjOUXJMvxwbwAAAGFBnsNFESwj/wAAHPz1vOoqgCJBkilQcO/rrEcx2YBBm6SiPNMlBW7nzgjrGo+rIjxZduxo7xDsx/HiCMTBcCTPVeDaAWqmbt6NktAjnU72VxwUCNW6kzyi/0E5XVrlm9BBAAAAMgGe4nRH/wAALpAfV/cBTMFTsBEe3ACM5CjMxhh6fiW65TNQNq9y6Q5mvc/p3YqUJS/AAAAARQGe5GpH/wAALoUdF4ESCIDUk61edmctFoWNExjGojiyx6UsgAfxx0UJN/Q52+ACV87lNIowxbpOXmmJwUBy4PQb78QLUAAAAJtBmulJqEFsmUwIX//+jLAAAFv5lfcqnmPADm7TK6y8aUSM5/j30LvjY3ZU0DRi4vF6Y1+JIqrUaFOVRrFFxly9PMSRtyONLOYHZ2uM+ViH+HLwPyf5zCx6ORIkNfsjIqyPX1ZLdhdInAX+V93zS0Kf+JmbSOWn5c8QaLI/IRJnYl8UHf2PrTbYyOn2YJXBiHLOeteYzE8pQziV4QAAAGlBnwdFFSwj/wAAHPwZe/gE1QULA86kB6WTrH7MPtqrf1Q+jPMDZHAftyLVDyTDhBcDULvwlrI/Yb8uD2SnTV84j9LZXKTyAECVeFSodWvn6aTyXoPUEC8fNpFxVUnJkZQLSfVajeSSaQQAAAA7AZ8mdEf/AAAukCE/LLyeajfM43oTRweBBBTXekG7rEgT4lxC2N1C7RXgZTC5ryzTvsEt/i216/zLPSEAAAA4AZ8oakf/AAAul79nwiiDUgWWsMdzbTg1Y84WuoqY0e5K8EHjKASOlvRKgATq5r1MVCWIneEjZuAAAAB3QZssSahBbJlMCF///oywAABZKuSyACPepQlqFKtpox5nX8O+Ysp+Z/wsYHqVv56jx42N2yhPqpJjAgFe4+a0tr/CWGQLw3I7QlfzZQXHFOI9PDe24crHP6MGKWnhcnyeouYj3mXyMfoigSkO2YuD1mfzNGOUWOEAAABPQZ9KRRUsI/8AABxNmbBNa+Nh7NlvsjqwwhVjoJjrX/dkLPvuYRFIdpsbtk7hwAz1VEa2f3P0lhIGgA7jNKoPZPSGrVZKpVTWfQ5r3cjdIQAAAEgBn2tqR/8AAC15j5FMt5BAgfZ5MRzCPENuDFZ/kz4WfhnW8EyY2ev14VtirHpfcIfryCcXQASoWGbJo1zI+PK+WZEhNdebdIEAAAB0QZtwSahBbJlMCF///oywAABZU2By3IF9oGvzhJ5ltuqbtA62Q8V8mKPsGt/yUfR49Z91d5DOPQJHXj+abok/tfnV6VCAxwec+9VttQq6saXyiDry/z45aKfF/+/uhGkt8vSE2VzDCyBvBq28Owkt732BBs0AAABdQZ+ORRUsI/8AABxXNir6iGcYgqtKFJsB+jm9uQsYiPN2723WDChK4cFFY2U4oDfqG1Meh31+oHHhZHFASER8rZcE6o8TRXW0LELqwVbGlGMw2Boo2X1YxQVLD6tgAAAAOQGfrXRH/wAALWA5TkgXbJRxni8hCRXxafUYagBItr67IjhnL4X5eImENwQ1OGePsrSBgitCSTg6hAAAAEUBn69qR/8AAC1pp8YPh0cxfjDUaNJ0CXy3VjrIULpG05hKdPSuEDunBUsDv+0+L019hzSLWs5UAE4JybcelrZFzFauukEAAABuQZu0SahBbJlMCF///oywAABZKZzzDxfjl7naCaS1KJwzQADhERFqc5kabEHTVNd2n3wpnOY3ufb/wAnP5NN/h60TCsQroza1u0WRAu4k2ouyO4JdWTN9zbC06Zz08Xn9nqkcPfm4t1dSaDYq4ZAAAABIQZ/SRRUsI/8AABv11sKd0UotLTWYlecz/7euDfY6aFgvCyh5YQlaw/l0V6R9PgLOGTvYy/owAt42ZVTboyjqEfzLjWYdhteXAAAAQAGf8XRH/wAALWA6FrIpDnJYhcvzrDj5FKr8mSkoYgA+NaoTpYqOdNe1sauR8QPEwUWl3lfGAB5goNM697SUTcEAAAAyAZ/zakf/AAAsYz/SLFjXyFKB575zRTTlOvs44o2n/4EkEPdIduaobd4qiWMsO/vwwF0AAABZQZv4SahBbJlMCE///fEAAAMDSxgoWYdSwPPXU0R1pFdH0YvGF7veWrjHf74pbhEgBnUi8UUu1c8pmUrnqcvS+aBYrrMiptnjcWQ0EPXnJAwJu7CFhTtp+IEAAABKQZ4WRRUsI/8AABxNFbRIaGxdXImh7RUCbZVTWeu7wekhjgMwzlho3eiHzq1lRwmDMRACqbW1uy6DKRKvWph/aa6POvDVtPXmWL8AAAA4AZ41dEf/AAAtcHGTjcERSCd92fb9m5bjgVjvP0/+Kyd5gfWSxv1hAG/EXLg6nFAB96IoaV1CdMAAAAAxAZ43akf/AAAtZR3O9Y+hiVOxWaPPkDyFf4m2j4piCBX3s7j3HN0/8K+V+qXQYYuZ8QAAAERBmjlJqEFsmUwI//yEAAAHk71ylLKPw5oOUkmNkMPVbWBP/xhUmAQ+V5CGJJOsAJ1/2/zxo0YKqgomMwpZ7EGtUe/UOgAAAf5liIQAK//+9nN8CmtHM5UuBXb3ZqPl0JLl+xBg+tAAAAMAAAMAAE3FRM6LCmPE2QAAAwBcQBHgsAjwlQthIR9kDlPAmNiAIi16pl6KRPEjx1JuKBxe0gnH0hT0GExUAptTmtxeJaL7LWIEuLkk1hLiIKRWQYEDg8S8N1S3VKy315gKSNRSeMea+auCe+4rwahXY4j7+NpOEzf6qsQ2Gspdp0/bXGx5vcLo7QJ4Cy22Um1hdxtaCfWSjhI41hdgIRYJHgiS4a0sOXgsonudfw6L6pMuAy6S8u3mXyPNAM/QGV9NknE84ffdVFJCJRmGhZdDOUnX9dYzi/FrVv/wKghKlVK0iHQXq3sBN58THOi8JC88kkEV/cSFavUL2ZCLVjkieahNgyQc7EbH8t4oiFbTwc7Voe4HcvMs8tSPOX8tl3vDmqp/90VTQDedv0NuARzOaM/TPt276I35ev4Uf7DDoyCMvDZ4wZCaSHd3+g5cnNB7iwR+ZbXhN9kjAAADAPBYTD0O4wGWchaTxz2rBOu8xq7wWgUjyr2pcAUoIWsLmt9i6J9ZXYeI5FqcaeLOBqpqyQu92tuwl72OidorSVKapT4P91n3NsglE1P7bqU2ABOy1XcvIb2yYt0DnioyEZRkI0Tc0Q7ngVKaJQhNcLciwDJu6MAAAAMAAAMAICAAABpHbW9vdgAAAGxtdmhkAAAAAAAAAAAAAAAAAAAD6AAAJyQAAQAAAQAAAAAAAAAAAAAAAAEAAAAAAAAAAAAAAAAAAAABAAAAAAAAAAAAAAAAAABAAAAAAAAAAAAAAAAAAAAAAAAAAAAAAAAAAAAAAAAAAgAAGXF0cmFrAAAAXHRraGQAAAADAAAAAAAAAAAAAAABAAAAAAAAJyQAAAAAAAAAAAAAAAAAAAAAAAEAAAAAAAAAAAAAAAAAAAABAAAAAAAAAAAAAAAAAABAAAAAAlgAAAGQAAAAAAAkZWR0cwAAABxlbHN0AAAAAAAAAAEAACckAAACAAABAAAAABjpbWRpYQAAACBtZGhkAAAAAAAAAAAAAAAAAAAyAAAB9QBVxAAAAAAALWhkbHIAAAAAAAAAAHZpZGUAAAAAAAAAAAAAAABWaWRlb0hhbmRsZXIAAAAYlG1pbmYAAAAUdm1oZAAAAAEAAAAAAAAAAAAAACRkaW5mAAAAHGRyZWYAAAAAAAAAAQAAAAx1cmwgAAAAAQAAGFRzdGJsAAAAmHN0c2QAAAAAAAAAAQAAAIhhdmMxAAAAAAAAAAEAAAAAAAAAAAAAAAAAAAAAAlgBkABIAAAASAAAAAAAAAABAAAAAAAAAAAAAAAAAAAAAAAAAAAAAAAAAAAAAAAAAAAAGP//AAAAMmF2Y0MBZAAf/+EAGWdkAB+s2UCYM+XhAAADAAEAAAMAZA8YMZYBAAZo6+PLIsAAAAAYc3R0cwAAAAAAAAABAAAB9QAAAQAAAAAcc3RzcwAAAAAAAAADAAAAAQAAAPsAAAH1AAAPaGN0dHMAAAAAAAAB6wAAAAEAAAIAAAAAAQAABQAAAAABAAACAAAAAAEAAAAAAAAAAQAAAQAAAAABAAAFAAAAAAEAAAIAAAAAAQAAAAAAAAABAAABAAAAAAEAAAUAAAAAAQAAAgAAAAABAAAAAAAAAAEAAAEAAAAAAQAAAgAAAAABAAAEAAAAAAIAAAEAAAAAAQAABQAAAAABAAACAAAAAAEAAAAAAAAAAQAAAQAAAAABAAAFAAAAAAEAAAIAAAAAAQAAAAAAAAABAAABAAAAAAEAAAUAAAAAAQAAAgAAAAABAAAAAAAAAAEAAAEAAAAAAQAAAgAAAAABAAAFAAAAAAEAAAIAAAAAAQAAAAAAAAABAAABAAAAAAEAAAUAAAAAAQAAAgAAAAABAAAAAAAAAAEAAAEAAAAAAQAABQAAAAABAAACAAAAAAEAAAAAAAAAAQAAAQAAAAABAAACAAAAAAEAAAUAAAAAAQAAAgAAAAABAAAAAAAAAAEAAAEAAAAAAQAABQAAAAABAAACAAAAAAEAAAAAAAAAAQAAAQAAAAABAAAFAAAAAAEAAAIAAAAAAQAAAAAAAAABAAABAAAAAAEAAAMAAAAAAQAAAQAAAAABAAADAAAAAAEAAAEAAAAAAQAABQAAAAABAAACAAAAAAEAAAAAAAAAAQAAAQAAAAABAAAFAAAAAAEAAAIAAAAAAQAAAAAAAAABAAABAAAAAAEAAAMAAAAAAQAAAQAAAAABAAAFAAAAAAEAAAIAAAAAAQAAAAAAAAABAAABAAAAAAEAAAUAAAAAAQAAAgAAAAABAAAAAAAAAAEAAAEAAAAAAQAAAgAAAAABAAAFAAAAAAEAAAIAAAAAAQAAAAAAAAABAAABAAAAAAEAAAIAAAAAAQAABQAAAAABAAACAAAAAAEAAAAAAAAAAQAAAQAAAAABAAAFAAAAAAEAAAIAAAAAAQAAAAAAAAABAAABAAAAAAEAAAUAAAAAAQAAAgAAAAABAAAAAAAAAAEAAAEAAAAAAQAABQAAAAABAAACAAAAAAEAAAAAAAAAAQAAAQAAAAABAAAFAAAAAAEAAAIAAAAAAQAAAAAAAAABAAABAAAAAAEAAAUAAAAAAQAAAgAAAAABAAAAAAAAAAEAAAEAAAAAAQAABQAAAAABAAACAAAAAAEAAAAAAAAAAQAAAQAAAAABAAAFAAAAAAEAAAIAAAAAAQAAAAAAAAABAAABAAAAAAEAAAUAAAAAAQAAAgAAAAABAAAAAAAAAAEAAAEAAAAAAgAAAgAAAAABAAADAAAAAAEAAAEAAAAAAQAABQAAAAABAAACAAAAAAEAAAAAAAAAAQAAAQAAAAABAAACAAAAAAEAAAUAAAAAAQAAAgAAAAABAAAAAAAAAAEAAAEAAAAAAQAABQAAAAABAAACAAAAAAEAAAAAAAAAAQAAAQAAAAABAAAEAAAAAAIAAAEAAAAAAQAABQAAAAABAAACAAAAAAEAAAAAAAAAAQAAAQAAAAABAAAFAAAAAAEAAAIAAAAAAQAAAAAAAAABAAABAAAAAAEAAAUAAAAAAQAAAgAAAAABAAAAAAAAAAEAAAEAAAAAAQAABAAAAAACAAABAAAAAAEAAAUAAAAAAQAAAgAAAAABAAAAAAAAAAEAAAEAAAAAAQAABQAAAAABAAACAAAAAAEAAAAAAAAAAQAAAQAAAAABAAAFAAAAAAEAAAIAAAAAAQAAAAAAAAABAAABAAAAAAEAAAUAAAAAAQAAAgAAAAABAAAAAAAAAAEAAAEAAAAAAQAABQAAAAABAAACAAAAAAEAAAAAAAAAAQAAAQAAAAABAAAFAAAAAAEAAAIAAAAAAQAAAAAAAAABAAABAAAAAAEAAAUAAAAAAQAAAgAAAAABAAAAAAAAAAEAAAEAAAAAAQAABQAAAAABAAACAAAAAAEAAAAAAAAAAQAAAQAAAAABAAAFAAAAAAEAAAIAAAAAAQAAAAAAAAABAAABAAAAAAEAAAUAAAAAAQAAAgAAAAABAAAAAAAAAAEAAAEAAAAAAQAABQAAAAABAAACAAAAAAEAAAAAAAAAAQAAAQAAAAABAAAFAAAAAAEAAAIAAAAAAQAAAAAAAAABAAABAAAAAAEAAAUAAAAAAQAAAgAAAAABAAAAAAAAAAEAAAEAAAAAAQAABQAAAAABAAACAAAAAAEAAAAAAAAAAQAAAQAAAAABAAADAAAAAAEAAAEAAAAAAQAABQAAAAABAAACAAAAAAEAAAAAAAAAAQAAAQAAAAABAAAFAAAAAAEAAAIAAAAAAQAAAAAAAAABAAABAAAAAAEAAAUAAAAAAQAAAgAAAAABAAAAAAAAAAEAAAEAAAAAAQAABQAAAAABAAACAAAAAAEAAAAAAAAAAQAAAQAAAAABAAAFAAAAAAEAAAIAAAAAAQAAAAAAAAABAAABAAAAAAEAAAIAAAAAAQAABAAAAAACAAABAAAAAAEAAAUAAAAAAQAAAgAAAAABAAAAAAAAAAEAAAEAAAAAAQAABQAAAAABAAACAAAAAAEAAAAAAAAAAQAAAQAAAAABAAAFAAAAAAEAAAIAAAAAAQAAAAAAAAABAAABAAAAAAEAAAMAAAAAAQAAAQAAAAABAAACAAAAAAEAAAUAAAAAAQAAAgAAAAABAAAAAAAAAAEAAAEAAAAAAQAABQAAAAABAAACAAAAAAEAAAAAAAAAAQAAAQAAAAABAAAFAAAAAAEAAAIAAAAAAQAAAAAAAAABAAABAAAAAAEAAAUAAAAAAQAAAgAAAAABAAAAAAAAAAEAAAEAAAAAAQAABQAAAAABAAACAAAAAAEAAAAAAAAAAQAAAQAAAAABAAAFAAAAAAEAAAIAAAAAAQAAAAAAAAABAAABAAAAAAEAAAUAAAAAAQAAAgAAAAABAAAAAAAAAAEAAAEAAAAAAQAABQAAAAABAAACAAAAAAEAAAAAAAAAAQAAAQAAAAABAAAFAAAAAAEAAAIAAAAAAQAAAAAAAAABAAABAAAAAAEAAAUAAAAAAQAAAgAAAAABAAAAAAAAAAEAAAEAAAAAAQAABAAAAAACAAABAAAAAAIAAAIAAAAAAQAABQAAAAABAAACAAAAAAEAAAAAAAAAAQAAAQAAAAABAAAEAAAAAAIAAAEAAAAAAQAABQAAAAABAAACAAAAAAEAAAAAAAAAAQAAAQAAAAABAAAFAAAAAAEAAAIAAAAAAQAAAAAAAAABAAABAAAAAAEAAAUAAAAAAQAAAgAAAAABAAAAAAAAAAEAAAEAAAAAAQAABQAAAAABAAACAAAAAAEAAAAAAAAAAQAAAQAAAAABAAACAAAAAAEAAAUAAAAAAQAAAgAAAAABAAAAAAAAAAEAAAEAAAAAAQAAAgAAAAABAAAFAAAAAAEAAAIAAAAAAQAAAAAAAAABAAABAAAAAAEAAAUAAAAAAQAAAgAAAAABAAAAAAAAAAEAAAEAAAAAAQAAAwAAAAABAAABAAAAAAEAAAUAAAAAAQAAAgAAAAABAAAAAAAAAAEAAAEAAAAAAQAABQAAAAABAAACAAAAAAEAAAAAAAAAAQAAAQAAAAABAAAFAAAAAAEAAAIAAAAAAQAAAAAAAAABAAABAAAAAAEAAAUAAAAAAQAAAgAAAAABAAAAAAAAAAEAAAEAAAAAAQAABQAAAAABAAACAAAAAAEAAAAAAAAAAQAAAQAAAAABAAAFAAAAAAEAAAIAAAAAAQAAAAAAAAABAAABAAAAAAEAAAUAAAAAAQAAAgAAAAABAAAAAAAAAAEAAAEAAAAAAQAABQAAAAABAAACAAAAAAEAAAAAAAAAAQAAAQAAAAABAAAFAAAAAAEAAAIAAAAAAQAAAAAAAAABAAABAAAAAAEAAAUAAAAAAQAAAgAAAAABAAAAAAAAAAEAAAEAAAAAAQAABQAAAAABAAACAAAAAAEAAAAAAAAAAQAAAQAAAAABAAAFAAAAAAEAAAIAAAAAAQAAAAAAAAABAAABAAAAAAEAAAUAAAAAAQAAAgAAAAABAAAAAAAAAAEAAAEAAAAAAQAABQAAAAABAAACAAAAAAEAAAAAAAAAAQAAAQAAAAABAAAFAAAAAAEAAAIAAAAAAQAAAAAAAAABAAABAAAAAAEAAAIAAAAAAQAABQAAAAABAAACAAAAAAEAAAAAAAAAAQAAAQAAAAABAAAFAAAAAAEAAAIAAAAAAQAAAAAAAAABAAABAAAAAAEAAAUAAAAAAQAAAgAAAAABAAAAAAAAAAEAAAEAAAAAAQAABQAAAAABAAACAAAAAAEAAAAAAAAAAQAAAQAAAAABAAAFAAAAAAEAAAIAAAAAAQAAAAAAAAABAAABAAAAAAEAAAUAAAAAAQAAAgAAAAABAAAAAAAAAAEAAAEAAAAAAQAABQAAAAABAAACAAAAAAEAAAAAAAAAAQAAAQAAAAABAAADAAAAAAEAAAEAAAAAAQAABQAAAAABAAACAAAAAAEAAAAAAAAAAQAAAQAAAAABAAAFAAAAAAEAAAIAAAAAAQAAAAAAAAABAAABAAAAAAEAAAUAAAAAAQAAAgAAAAABAAAAAAAAAAEAAAEAAAAAAQAAAwAAAAABAAABAAAAAAEAAAUAAAAAAQAAAgAAAAABAAAAAAAAAAEAAAEAAAAAAQAABQAAAAABAAACAAAAAAEAAAAAAAAAAQAAAQAAAAABAAAFAAAAAAEAAAIAAAAAAQAAAAAAAAABAAABAAAAAAEAAAUAAAAAAQAAAgAAAAABAAAAAAAAAAEAAAEAAAAAAQAABQAAAAABAAACAAAAAAEAAAAAAAAAAQAAAQAAAAABAAADAAAAAAEAAAEAAAAAAQAABQAAAAABAAACAAAAAAEAAAAAAAAAAQAAAQAAAAABAAAFAAAAAAEAAAIAAAAAAQAAAAAAAAABAAABAAAAAAEAAAMAAAAAAQAAAQAAAAABAAAFAAAAAAEAAAIAAAAAAQAAAAAAAAABAAABAAAAAAEAAAUAAAAAAQAAAgAAAAABAAAAAAAAAAEAAAEAAAAAAQAABQAAAAABAAACAAAAAAEAAAAAAAAAAQAAAQAAAAABAAAEAAAAAAIAAAEAAAAAAQAABQAAAAABAAACAAAAAAEAAAAAAAAAAQAAAQAAAAABAAAFAAAAAAEAAAIAAAAAAQAAAAAAAAABAAABAAAAAAEAAAUAAAAAAQAAAgAAAAABAAAAAAAAAAEAAAEAAAAAAgAAAgAAAAAcc3RzYwAAAAAAAAABAAAAAQAAAfUAAAABAAAH6HN0c3oAAAAAAAAAAAAAAfUAAAShAAAAjQAAAGEAAAA2AAAAOgAAALoAAABPAAAANwAAADUAAAB2AAAAVAAAADgAAAA5AAAATQAAAHcAAABPAAAARgAAAGwAAABbAAAASgAAAEUAAAB7AAAAPgAAAD0AAABIAAAAbQAAAEMAAABBAAAAOQAAAEQAAABNAAAAKAAAAC8AAAAlAAAAqwAAADwAAAArAAAASwAAAKYAAABiAAAAQAAAAD4AAABtAAAAXgAAAEoAAAAvAAAAMgAAAH0AAABEAAAANwAAACkAAAByAAAAWwAAAEgAAABOAAAAhAAAADYAAABhAAAAMAAAAHsAAABKAAAAOAAAACcAAACFAAAAPwAAADYAAAAtAAAArQAAADUAAACYAAAAPgAAAC0AAABFAAAAaQAAAEUAAAAvAAAANgAAAD4AAABkAAAAOwAAADIAAAA8AAAAaQAAAHsAAABoAAAAQQAAAFEAAABoAAAARgAAAD8AAAA1AAAAaAAAADwAAAA4AAAAOgAAAGcAAAA5AAAANwAAACUAAACIAAAAUgAAACAAAAA5AAAAfQAAAD8AAABJAAAAKQAAAGEAAABIAAAAMwAAADoAAACaAAAARAAAAEEAAAA0AAAAqQAAAF4AAAA8AAAAPgAAAE0AAACEAAAAcQAAADAAAABhAAAANwAAACwAAAA5AAAAaQAAAF0AAABDAAAAMgAAACYAAABSAAAAQgAAACsAAAArAAAAQAAAADoAAAArAAAAcQAAAD8AAAAkAAAAHwAAAF0AAAAoAAAAIAAAAB0AAACPAAAAPgAAADYAAAAiAAAAbgAAADUAAAA0AAAAowAAAD0AAAAxAAAAJAAAAHgAAABGAAAAJAAAAC8AAABpAAAATgAAADMAAAAsAAAAaAAAAEUAAAAnAAAALgAAAG0AAAA5AAAAOAAAADQAAABoAAAAVgAAAEEAAAAzAAAAaQAAAE0AAABKAAAAOwAAAGsAAABAAAAAOAAAADoAAABVAAAAPgAAADgAAABJAAAAXgAAAGsAAABRAAAAPAAAAJgAAAAxAAAAPgAAADUAAABaAAAAPAAAADEAAAA+AAAAQwAAAEcAAAA+AAAAQQAAAGQAAAA5AAAALQAAADwAAABhAAAAOAAAAHcAAABBAAAANQAAACsAAACUAAAAPgAAAEYAAABDAAAAgwAAAEsAAABBAAAAPAAAAI4AAABOAAAAQgAAADMAAABuAAAASAAAAEAAAABCAAAAaQAAAGsAAABEAAAAQAAAAFEAAABTAAAANwAAADYAAABmAAAARwAAADIAAAAuAAAAegAAADAAAAArAAAANgAAAC4AAAAmAAACaQAAAIkAAABlAAAALAAAADUAAABGAAAANgAAACcAAAAoAAAAZQAAAC0AAAA7AAAAHQAAAGUAAABCAAAAJgAAACQAAABxAAAALgAAACIAAAAfAAAAbQAAADcAAAA5AAAAGgAAAGoAAABOAAAAOQAAADwAAABdAAAARAAAADEAAAAtAAAAYgAAACEAAAAYAAAAFwAAAEwAAAAuAAAALAAAADIAAAA5AAAAHAAAACcAAABKAAAAMgAAAJwAAAA8AAAAKAAAACYAAAArAAAATAAAACcAAAByAAAAOAAAADIAAAAnAAAARgAAAC0AAAAYAAAAHQAAAIoAAABdAAAAJwAAACYAAABaAAAALQAAACMAAAAkAAAAOwAAAGsAAABIAAAALAAAADoAAABDAAAAVAAAAEUAAAApAAAAMQAAAFUAAABKAAAAMwAAADMAAABVAAAATAAAAJAAAABaAAAARAAAAD4AAADUAAAAPgAAADkAAABFAAAAjAAAAE0AAAA3AAAASgAAAIIAAABiAAAAUQAAADQAAABZAAAARgAAADEAAAAnAAAAkgAAAD8AAAA+AAAAKAAAAGcAAABIAAAARgAAAEcAAABvAAAAUwAAACcAAAA6AAAAfwAAADkAAAA8AAAANwAAAIAAAABOAAAAMAAAAD4AAAB+AAAAVQAAAEEAAABBAAAAaAAAAFUAAAA2AAAAOwAAAGIAAABRAAAAUAAAADkAAABoAAAANgAAACQAAAAsAAAAYwAAADcAAAArAAAAJgAAADoAAABVAAAAMQAAADIAAAAkAAAAaQAAAEUAAAAsAAAAOgAAAHwAAAAsAAAAJgAAADIAAABqAAAARAAAACkAAAAuAAAAZwAAAEEAAAA1AAAAOwAAAGsAAAA/AAAAOgAAADAAAACGAAAAPgAAADMAAAAoAAAAeAAAAEAAAACOAAAARgAAAEQAAAA/AAAAfgAAAFUAAABBAAAAOAAAAJoAAABKAAAAQwAAAEEAAACBAAAATwAAAL8AAABqAAAASgAAAEMAAAC6AAAAYQAAADkAAABFAAAAagAAAEMAAAAuAAAAIgAAAJcAAABKAAAAMgAAADcAAACaAAAAXgAAAEcAAAA8AAAAiQAAAEYAAACdAAAAXAAAAEUAAABDAAAAfwAAAFgAAABPAAAAOAAAAGQAAAA2AAAAkwAAAEYAAAA7AAAAOQAAAKoAAABlAAAANgAAAEkAAACfAAAAbQAAAD8AAAA8AAAAewAAAFMAAABMAAAAeAAAAGEAAAA9AAAASQAAAHIAAABMAAAARAAAADYAAABdAAAATgAAADwAAAA1AAAASAAAAgIAAAAUc3RjbwAAAAAAAAABAAAAMAAAAGJ1ZHRhAAAAWm1ldGEAAAAAAAAAIWhkbHIAAAAAAAAAAG1kaXJhcHBsAAAAAAAAAAAAAAAALWlsc3QAAAAlqXRvbwAAAB1kYXRhAAAAAQAAAABMYXZmNTcuODMuMTAw\" type=\"video/mp4\" />\n",
              "             </video>"
            ]
          },
          "metadata": {}
        }
      ]
    },
    {
      "cell_type": "markdown",
      "metadata": {
        "id": "EzcBzbEDvATu"
      },
      "source": [
        "# Bonus Exercise 1\n",
        "Try to find an architecture for the agent that allows for the fastest training for:\n",
        "1. CartPole\n",
        "2. LunarLander\n",
        "\n",
        "Are the best architectures the same for both environments?"
      ]
    },
    {
      "cell_type": "markdown",
      "metadata": {
        "id": "y5dog0bncQhc"
      },
      "source": [
        "## Bonus Exercise 2\n",
        "\n",
        "It may be tempting to reuse the data we already have. Try to modify `train_policy_gradient` function in order to modify our parameters using the same trajectories multiple times (e.g. call `train_policy_gradient` method 100 times). Does it work? If not, can you think of the reason why?"
      ]
    }
  ]
}